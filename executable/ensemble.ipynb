{
 "cells": [
  {
   "cell_type": "code",
   "execution_count": 1,
   "metadata": {
    "ExecuteTime": {
     "end_time": "2017-09-24T06:21:27.104454Z",
     "start_time": "2017-09-24T06:21:26.850072Z"
    },
    "collapsed": true
   },
   "outputs": [],
   "source": [
    "import argparse\n",
    "import glob\n",
    "import os\n",
    "import time\n",
    "\n",
    "import numpy as np\n",
    "import pandas as pd\n",
    "import cv2"
   ]
  },
  {
   "cell_type": "code",
   "execution_count": 2,
   "metadata": {
    "ExecuteTime": {
     "end_time": "2017-09-24T06:21:27.368896Z",
     "start_time": "2017-09-24T06:21:27.105550Z"
    }
   },
   "outputs": [],
   "source": [
    "parser = {\n",
    "    'val_path': '../data/val768/',\n",
    "    'val_masks_path': '../data/val768_masks/',\n",
    "    'test_path': '../data/test_hq/',\n",
    "    'intermediate_path': '../intermediate/output/',\n",
    "    'output_paths': ['output_unet_41/'],\n",
    "    'submission_name': 'subu43.csv',\n",
    "    'log_every': 1000,\n",
    "}\n",
    "args = argparse.Namespace(**parser)\n",
    "\n",
    "args.output_paths = [os.path.join(args.intermediate_path, x)\n",
    "                     for x in args.output_paths]\n",
    "args.img_names = sorted([x.split('/')[-1]\n",
    "                         for x in glob.glob(args.test_path + '/*.jpg')])"
   ]
  },
  {
   "cell_type": "code",
   "execution_count": 3,
   "metadata": {
    "ExecuteTime": {
     "end_time": "2017-09-24T06:21:27.375508Z",
     "start_time": "2017-09-24T06:21:27.369886Z"
    },
    "collapsed": true
   },
   "outputs": [],
   "source": [
    "def rle_encode(mask_image):\n",
    "    pixels = mask_image.flatten()\n",
    "    # We avoid issues with '1' at the start or end (at the corners of \n",
    "    # the original image) by setting those pixels to '0' explicitly.\n",
    "    # We do not expect these to be non-zero for an accurate mask, \n",
    "    # so this should not harm the score.\n",
    "    pixels[0] = 0\n",
    "    pixels[-1] = 0\n",
    "    runs = np.where(pixels[1:] != pixels[:-1])[0] + 2\n",
    "    runs[1::2] = runs[1::2] - runs[:-1:2]\n",
    "    return runs"
   ]
  },
  {
   "cell_type": "code",
   "execution_count": 4,
   "metadata": {
    "ExecuteTime": {
     "end_time": "2017-09-24T06:21:27.417174Z",
     "start_time": "2017-09-24T06:21:27.376422Z"
    },
    "collapsed": true
   },
   "outputs": [],
   "source": [
    "def get_mask(output_paths, index, weights=None):\n",
    "    if weights is None:\n",
    "        weights = [1] * len(output_paths)\n",
    "    \n",
    "    img = 0\n",
    "    for i, path in enumerate(output_paths):\n",
    "        file = os.path.join(path, str(index)+'.jpg')\n",
    "        image = cv2.imread(file, cv2.IMREAD_GRAYSCALE).astype(np.uint16)\n",
    "        img = img + image * weights[i]\n",
    "    img = img / sum(weights)\n",
    "    return img > 127.5"
   ]
  },
  {
   "cell_type": "code",
   "execution_count": 5,
   "metadata": {
    "ExecuteTime": {
     "end_time": "2017-09-24T06:55:51.771301Z",
     "start_time": "2017-09-24T06:21:27.418095Z"
    }
   },
   "outputs": [
    {
     "name": "stdout",
     "output_type": "stream",
     "text": [
      "Done   1000 images in 21s\n",
      "Done   2000 images in 41s\n",
      "Done   3000 images in 62s\n",
      "Done   4000 images in 83s\n",
      "Done   5000 images in 104s\n",
      "Done   6000 images in 125s\n",
      "Done   7000 images in 147s\n",
      "Done   8000 images in 168s\n",
      "Done   9000 images in 190s\n",
      "Done  10000 images in 211s\n",
      "Done  11000 images in 232s\n",
      "Done  12000 images in 254s\n",
      "Done  13000 images in 275s\n",
      "Done  14000 images in 297s\n",
      "Done  15000 images in 318s\n",
      "Done  16000 images in 340s\n",
      "Done  17000 images in 361s\n",
      "Done  18000 images in 383s\n",
      "Done  19000 images in 404s\n",
      "Done  20000 images in 425s\n",
      "Done  21000 images in 446s\n",
      "Done  22000 images in 467s\n",
      "Done  23000 images in 488s\n",
      "Done  24000 images in 510s\n",
      "Done  25000 images in 531s\n",
      "Done  26000 images in 552s\n",
      "Done  27000 images in 573s\n",
      "Done  28000 images in 594s\n",
      "Done  29000 images in 616s\n",
      "Done  30000 images in 637s\n",
      "Done  31000 images in 658s\n",
      "Done  32000 images in 679s\n",
      "Done  33000 images in 701s\n",
      "Done  34000 images in 722s\n",
      "Done  35000 images in 742s\n",
      "Done  36000 images in 763s\n",
      "Done  37000 images in 785s\n",
      "Done  38000 images in 807s\n",
      "Done  39000 images in 830s\n",
      "Done  40000 images in 852s\n",
      "Done  41000 images in 875s\n",
      "Done  42000 images in 896s\n",
      "Done  43000 images in 917s\n",
      "Done  44000 images in 938s\n",
      "Done  45000 images in 959s\n",
      "Done  46000 images in 981s\n",
      "Done  47000 images in 1002s\n",
      "Done  48000 images in 1023s\n",
      "Done  49000 images in 1045s\n",
      "Done  50000 images in 1066s\n",
      "Done  51000 images in 1087s\n",
      "Done  52000 images in 1108s\n",
      "Done  53000 images in 1128s\n",
      "Done  54000 images in 1149s\n",
      "Done  55000 images in 1170s\n",
      "Done  56000 images in 1191s\n",
      "Done  57000 images in 1212s\n",
      "Done  58000 images in 1232s\n",
      "Done  59000 images in 1252s\n",
      "Done  60000 images in 1272s\n",
      "Done  61000 images in 1291s\n",
      "Done  62000 images in 1311s\n",
      "Done  63000 images in 1331s\n",
      "Done  64000 images in 1351s\n",
      "Done  65000 images in 1371s\n",
      "Done  66000 images in 1390s\n",
      "Done  67000 images in 1410s\n",
      "Done  68000 images in 1430s\n",
      "Done  69000 images in 1449s\n",
      "Done  70000 images in 1469s\n",
      "Done  71000 images in 1488s\n",
      "Done  72000 images in 1508s\n",
      "Done  73000 images in 1528s\n",
      "Done  74000 images in 1548s\n",
      "Done  75000 images in 1568s\n",
      "Done  76000 images in 1588s\n",
      "Done  77000 images in 1608s\n",
      "Done  78000 images in 1628s\n",
      "Done  79000 images in 1648s\n",
      "Done  80000 images in 1667s\n",
      "Done  81000 images in 1687s\n",
      "Done  82000 images in 1707s\n",
      "Done  83000 images in 1726s\n",
      "Done  84000 images in 1746s\n",
      "Done  85000 images in 1766s\n",
      "Done  86000 images in 1786s\n",
      "Done  87000 images in 1806s\n",
      "Done  88000 images in 1825s\n",
      "Done  89000 images in 1845s\n",
      "Done  90000 images in 1865s\n",
      "Done  91000 images in 1885s\n",
      "Done  92000 images in 1905s\n",
      "Done  93000 images in 1925s\n",
      "Done  94000 images in 1945s\n",
      "Done  95000 images in 1964s\n",
      "Done  96000 images in 1984s\n",
      "Done  97000 images in 2004s\n",
      "Done  98000 images in 2024s\n",
      "Done  99000 images in 2043s\n",
      "Done 100000 images in 2063s\n"
     ]
    }
   ],
   "source": [
    "list_rle = []\n",
    "init_time = time.time()\n",
    "for i in range(1, len(args.img_names)+1):\n",
    "    mask = get_mask(args.output_paths, i)\n",
    "    rle = rle_encode(mask)\n",
    "    list_rle.append(' '.join(str(x) for x in rle))\n",
    "    \n",
    "    if i % args.log_every == 0:\n",
    "        print(\"Done {:6} images in {:.0f}s\".format(i, time.time()-init_time))"
   ]
  },
  {
   "cell_type": "code",
   "execution_count": 6,
   "metadata": {
    "ExecuteTime": {
     "end_time": "2017-09-24T06:56:10.506005Z",
     "start_time": "2017-09-24T06:55:51.772500Z"
    },
    "collapsed": true
   },
   "outputs": [],
   "source": [
    "df = pd.DataFrame({\"img\": args.img_names, \"rle_mask\": list_rle})\n",
    "submiss_path = os.path.join(args.intermediate_path, args.submission_name)\n",
    "df.to_csv(submiss_path, index=False)"
   ]
  }
 ],
 "metadata": {
  "kernelspec": {
   "display_name": "Python (pydata)",
   "language": "python",
   "name": "pydata"
  },
  "language_info": {
   "codemirror_mode": {
    "name": "ipython",
    "version": 3
   },
   "file_extension": ".py",
   "mimetype": "text/x-python",
   "name": "python",
   "nbconvert_exporter": "python",
   "pygments_lexer": "ipython3",
   "version": "3.5.4"
  }
 },
 "nbformat": 4,
 "nbformat_minor": 2
}
