{
 "cells": [
  {
   "cell_type": "code",
   "execution_count": 1,
   "metadata": {
    "ExecuteTime": {
     "end_time": "2017-09-22T14:42:47.144415Z",
     "start_time": "2017-09-22T23:42:47.138463+09:00"
    },
    "collapsed": true,
    "deletable": true,
    "editable": true
   },
   "outputs": [],
   "source": [
    "import argparse\n",
    "import glob\n",
    "import os\n",
    "import time\n",
    "\n",
    "import numpy as np\n",
    "import pandas as pd\n",
    "import cv2"
   ]
  },
  {
   "cell_type": "code",
   "execution_count": 4,
   "metadata": {
    "ExecuteTime": {
     "end_time": "2017-09-22T14:42:52.084898Z",
     "start_time": "2017-09-22T23:42:52.078408+09:00"
    },
    "collapsed": true,
    "deletable": true,
    "editable": true
   },
   "outputs": [],
   "source": [
    "parser = {\n",
    "    'val_path': '../data/val768/',\n",
    "    'val_masks_path': '../data/val768_masks/',\n",
    "    'test_path': '../data/test_hq/',\n",
    "    'output_paths': ['output/tn', 'output/dn', 'output/unet']\n",
    "    'log_every': 1000,\n",
    "}\n",
    "args = argparse.Namespace(**parser)\n",
    "\n",
    "args.output_paths = ['../intermediate/'+x for x in args.output_paths]"
   ]
  },
  {
   "cell_type": "code",
   "execution_count": null,
   "metadata": {
    "collapsed": true
   },
   "outputs": [],
   "source": [
    "def rle_encode(mask_image):\n",
    "    pixels = mask_image.flatten()\n",
    "    # We avoid issues with '1' at the start or end (at the corners of \n",
    "    # the original image) by setting those pixels to '0' explicitly.\n",
    "    # We do not expect these to be non-zero for an accurate mask, \n",
    "    # so this should not harm the score.\n",
    "    pixels[0] = 0\n",
    "    pixels[-1] = 0\n",
    "    runs = np.where(pixels[1:] != pixels[:-1])[0] + 2\n",
    "    runs[1::2] = runs[1::2] - runs[:-1:2]\n",
    "    return runs"
   ]
  },
  {
   "cell_type": "code",
   "execution_count": null,
   "metadata": {
    "collapsed": true
   },
   "outputs": [],
   "source": [
    "def get_mask(output_paths, index, weights=None):\n",
    "    if weight is None:\n",
    "        weights = [1] * len(output_list)\n",
    "        \n",
    "    img = 0\n",
    "    for i, path in enumerate(output_paths):\n",
    "        file = os.path.join(path, str(index)+'.jpg')\n",
    "        img = img + cv2.imread(file, cv2.IMREAD_GRAYSCALE) * weights[i]\n",
    "    img = img / sum(weights)\n",
    "    \n",
    "    return img > 127.5"
   ]
  },
  {
   "cell_type": "code",
   "execution_count": null,
   "metadata": {
    "collapsed": true
   },
   "outputs": [],
   "source": [
    "list_rle = []\n",
    "init_time = time.time()\n",
    "for i in range(1, len(img_names)+1):\n",
    "    mask = get_mask(args.output_paths, i)\n",
    "    rle = rle_encode(mask)\n",
    "    list_rle.append(' '.join(str(x) for x in rle))\n",
    "    \n",
    "    if i % args.log_every == 0:\n",
    "        print(\"Done {:6} images in {:.0f}s\".format(i, time.time()-init_time))"
   ]
  },
  {
   "cell_type": "code",
   "execution_count": null,
   "metadata": {
    "collapsed": true
   },
   "outputs": [],
   "source": [
    "img_names = sorted([x.split('/')[-1]\n",
    "                    for x in glob.glob(args.test_path + '/*.jpg')])\n",
    "df = pd.DataFrame({\"img\": img_names, \"rle_mask\": list_rle})\n",
    "submiss_path = '../intermediate/output/submission.csv'\n",
    "df.to_csv(submiss_path, index=False)"
   ]
  }
 ],
 "metadata": {
  "kernelspec": {
   "display_name": "Python [conda env:pydata]",
   "language": "python",
   "name": "conda-env-pydata-py"
  },
  "language_info": {
   "codemirror_mode": {
    "name": "ipython",
    "version": 3
   },
   "file_extension": ".py",
   "mimetype": "text/x-python",
   "name": "python",
   "nbconvert_exporter": "python",
   "pygments_lexer": "ipython3",
   "version": "3.5.4"
  }
 },
 "nbformat": 4,
 "nbformat_minor": 2
}
