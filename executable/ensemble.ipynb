{
 "cells": [
  {
   "cell_type": "code",
   "execution_count": 1,
   "metadata": {
    "ExecuteTime": {
     "end_time": "2017-09-27T17:05:52.594094Z",
     "start_time": "2017-09-27T17:05:49.885495Z"
    },
    "collapsed": true
   },
   "outputs": [],
   "source": [
    "import argparse\n",
    "import glob\n",
    "import os\n",
    "import time\n",
    "\n",
    "import numpy as np\n",
    "import pandas as pd\n",
    "%matplotlib inline\n",
    "import matplotlib.pyplot as plt\n",
    "import cv2"
   ]
  },
  {
   "cell_type": "code",
   "execution_count": 2,
   "metadata": {
    "ExecuteTime": {
     "end_time": "2017-09-27T17:05:52.935902Z",
     "start_time": "2017-09-27T17:05:52.597819Z"
    },
    "collapsed": true
   },
   "outputs": [],
   "source": [
    "parser = {\n",
    "    'test_path': '../data/test_hq/',\n",
    "    'intermediate_path': '../intermediate/output/',\n",
    "    'output_paths': ['output_dn_31',\n",
    "                     'output_tn_31', 'output_tn_41',\n",
    "                     'output_unet_27', 'output_unet_33', 'output_unet_38',\n",
    "                     'output_unet_41'],\n",
    "    'submission_name': 'subu11.csv',\n",
    "    'log_every': 1000,\n",
    "}\n",
    "args = argparse.Namespace(**parser)\n",
    "\n",
    "args.output_paths = [os.path.join(args.intermediate_path, x)\n",
    "                     for x in args.output_paths]\n",
    "args.img_names = sorted([x.split('/')[-1]\n",
    "                         for x in glob.glob(args.test_path + '/*.jpg')])"
   ]
  },
  {
   "cell_type": "code",
   "execution_count": 3,
   "metadata": {
    "ExecuteTime": {
     "end_time": "2017-09-27T17:05:52.942437Z",
     "start_time": "2017-09-27T17:05:52.937216Z"
    },
    "collapsed": true
   },
   "outputs": [],
   "source": [
    "def rle_encode(mask_image):\n",
    "    pixels = mask_image.flatten()\n",
    "    # We avoid issues with '1' at the start or end (at the corners of \n",
    "    # the original image) by setting those pixels to '0' explicitly.\n",
    "    # We do not expect these to be non-zero for an accurate mask, \n",
    "    # so this should not harm the score.\n",
    "    pixels[0] = 0\n",
    "    pixels[-1] = 0\n",
    "    runs = np.where(pixels[1:] != pixels[:-1])[0] + 2\n",
    "    runs[1::2] = runs[1::2] - runs[:-1:2]\n",
    "    return runs"
   ]
  },
  {
   "cell_type": "code",
   "execution_count": 4,
   "metadata": {
    "ExecuteTime": {
     "end_time": "2017-09-27T17:05:52.990263Z",
     "start_time": "2017-09-27T17:05:52.943719Z"
    },
    "collapsed": true
   },
   "outputs": [],
   "source": [
    "def get_mask(output_paths, index, weights=None):\n",
    "    if weights is None:\n",
    "        weights = [1.] * len(output_paths)\n",
    "    \n",
    "    img = 0\n",
    "    for i, path in enumerate(output_paths):\n",
    "        file = os.path.join(path, str(index)+'.jpg')\n",
    "        image = cv2.imread(file, cv2.IMREAD_GRAYSCALE)\n",
    "        img = img + image * weights[i]\n",
    "    return (img / sum(weights)) > 127"
   ]
  },
  {
   "cell_type": "code",
   "execution_count": 5,
   "metadata": {
    "ExecuteTime": {
     "end_time": "2017-09-27T17:05:53.051352Z",
     "start_time": "2017-09-27T17:05:52.991591Z"
    },
    "collapsed": true
   },
   "outputs": [],
   "source": [
    "def get_vote_mask(output_paths, index, weights=None):\n",
    "    if weights is None:\n",
    "        weights = [1.] * len(output_paths)\n",
    "    \n",
    "    img = 0\n",
    "    for i, path in enumerate(output_paths):\n",
    "        file = os.path.join(path, str(index)+'.jpg')\n",
    "        image = cv2.imread(file, cv2.IMREAD_GRAYSCALE)\n",
    "        img = img + (image > 127) * weights[i]\n",
    "    return img > (sum(weights)/2)"
   ]
  },
  {
   "cell_type": "code",
   "execution_count": 6,
   "metadata": {
    "ExecuteTime": {
     "end_time": "2017-09-27T19:58:34.699840Z",
     "start_time": "2017-09-27T17:05:53.056068Z"
    },
    "scrolled": false
   },
   "outputs": [
    {
     "name": "stdout",
     "output_type": "stream",
     "text": [
      "Done   1000 images in 98s\n",
      "Done   2000 images in 190s\n",
      "Done   3000 images in 281s\n",
      "Done   4000 images in 372s\n",
      "Done   5000 images in 463s\n",
      "Done   6000 images in 555s\n",
      "Done   7000 images in 648s\n",
      "Done   8000 images in 739s\n",
      "Done   9000 images in 830s\n",
      "Done  10000 images in 921s\n",
      "Done  11000 images in 1012s\n",
      "Done  12000 images in 1104s\n",
      "Done  13000 images in 1196s\n",
      "Done  14000 images in 1288s\n",
      "Done  15000 images in 1380s\n",
      "Done  16000 images in 1473s\n",
      "Done  17000 images in 1562s\n",
      "Done  18000 images in 1626s\n",
      "Done  19000 images in 1690s\n",
      "Done  20000 images in 1750s\n",
      "Done  21000 images in 1810s\n",
      "Done  22000 images in 1873s\n",
      "Done  23000 images in 1959s\n",
      "Done  24000 images in 2020s\n",
      "Done  25000 images in 2079s\n",
      "Done  26000 images in 2140s\n",
      "Done  27000 images in 2199s\n",
      "Done  28000 images in 2259s\n",
      "Done  29000 images in 2320s\n",
      "Done  30000 images in 2380s\n",
      "Done  31000 images in 2440s\n",
      "Done  32000 images in 2519s\n",
      "Done  33000 images in 2612s\n",
      "Done  34000 images in 2705s\n",
      "Done  35000 images in 2797s\n",
      "Done  36000 images in 2898s\n",
      "Done  37000 images in 3000s\n",
      "Done  38000 images in 3119s\n",
      "Done  39000 images in 3239s\n",
      "Done  40000 images in 3360s\n",
      "Done  41000 images in 3478s\n",
      "Done  42000 images in 3601s\n",
      "Done  43000 images in 3728s\n",
      "Done  44000 images in 3847s\n",
      "Done  45000 images in 3971s\n",
      "Done  46000 images in 4096s\n",
      "Done  47000 images in 4226s\n",
      "Done  48000 images in 4355s\n",
      "Done  49000 images in 4478s\n",
      "Done  50000 images in 4605s\n",
      "Done  51000 images in 4733s\n",
      "Done  52000 images in 4861s\n",
      "Done  53000 images in 4991s\n",
      "Done  54000 images in 5121s\n",
      "Done  55000 images in 5228s\n",
      "Done  56000 images in 5322s\n",
      "Done  57000 images in 5424s\n",
      "Done  58000 images in 5524s\n",
      "Done  59000 images in 5625s\n",
      "Done  60000 images in 5723s\n",
      "Done  61000 images in 5826s\n",
      "Done  62000 images in 5928s\n",
      "Done  63000 images in 6031s\n",
      "Done  64000 images in 6136s\n",
      "Done  65000 images in 6239s\n",
      "Done  66000 images in 6343s\n",
      "Done  67000 images in 6459s\n",
      "Done  68000 images in 6578s\n",
      "Done  69000 images in 6699s\n",
      "Done  70000 images in 6818s\n",
      "Done  71000 images in 6928s\n",
      "Done  72000 images in 7036s\n",
      "Done  73000 images in 7154s\n",
      "Done  74000 images in 7277s\n",
      "Done  75000 images in 7401s\n",
      "Done  76000 images in 7513s\n",
      "Done  77000 images in 7630s\n",
      "Done  78000 images in 7743s\n",
      "Done  79000 images in 7850s\n",
      "Done  80000 images in 7956s\n",
      "Done  81000 images in 8062s\n",
      "Done  82000 images in 8168s\n",
      "Done  83000 images in 8274s\n",
      "Done  84000 images in 8387s\n",
      "Done  85000 images in 8511s\n",
      "Done  86000 images in 8632s\n",
      "Done  87000 images in 8756s\n",
      "Done  88000 images in 8877s\n",
      "Done  89000 images in 8998s\n",
      "Done  90000 images in 9123s\n",
      "Done  91000 images in 9246s\n",
      "Done  92000 images in 9372s\n",
      "Done  93000 images in 9495s\n",
      "Done  94000 images in 9618s\n",
      "Done  95000 images in 9739s\n",
      "Done  96000 images in 9861s\n",
      "Done  97000 images in 9984s\n",
      "Done  98000 images in 10107s\n",
      "Done  99000 images in 10231s\n",
      "Done 100000 images in 10354s\n"
     ]
    }
   ],
   "source": [
    "if 1 == 1:\n",
    "#    weights = [3., 3., 6., 2., 4., 6., 11.]\n",
    "    weights = [3., 3., 6., 2., 4., 6., 11.]\n",
    "    list_rle = []\n",
    "    init_time = time.time()\n",
    "    for i in range(1, len(args.img_names)+1):\n",
    "        mask = get_mask(args.output_paths, i, weights)\n",
    "        rle = rle_encode(mask)\n",
    "        list_rle.append(' '.join(str(x) for x in rle))\n",
    "\n",
    "        if i % args.log_every == 0:\n",
    "            print(\"Done {:6} images in {:.0f}s\"\n",
    "                  .format(i, time.time()-init_time))\n",
    "else:\n",
    "    weights = [1., 0, 1., 0, 1., 1., 1.]\n",
    "    list_rle = []\n",
    "    init_time = time.time()\n",
    "    #for i in range(1, len(args.img_names)+1):\n",
    "    for i in range(1, 2):\n",
    "        mask = get_vote_mask(args.output_paths, i, weights)\n",
    "        rle = rle_encode(mask)\n",
    "        list_rle.append(' '.join(str(x) for x in rle))\n",
    "\n",
    "        if i % args.log_every == 0:\n",
    "            print(\"Done {:6} images in {:.0f}s\"\n",
    "                  .format(i, time.time()-init_time))\n",
    "            plt.imshow(mask)"
   ]
  },
  {
   "cell_type": "code",
   "execution_count": 7,
   "metadata": {
    "ExecuteTime": {
     "end_time": "2017-09-27T19:58:53.594886Z",
     "start_time": "2017-09-27T19:58:34.701300Z"
    }
   },
   "outputs": [],
   "source": [
    "df = pd.DataFrame({\"img\": args.img_names, \"rle_mask\": list_rle})\n",
    "submiss_path = os.path.join(args.intermediate_path, args.submission_name)\n",
    "df.to_csv(submiss_path, index=False)"
   ]
  }
 ],
 "metadata": {
  "kernelspec": {
   "display_name": "Python (pydata)",
   "language": "python",
   "name": "pydata"
  },
  "language_info": {
   "codemirror_mode": {
    "name": "ipython",
    "version": 3
   },
   "file_extension": ".py",
   "mimetype": "text/x-python",
   "name": "python",
   "nbconvert_exporter": "python",
   "pygments_lexer": "ipython3",
   "version": "3.5.4"
  }
 },
 "nbformat": 4,
 "nbformat_minor": 2
}
