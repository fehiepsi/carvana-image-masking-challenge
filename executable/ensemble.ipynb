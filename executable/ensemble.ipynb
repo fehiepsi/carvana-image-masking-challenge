{
 "cells": [
  {
   "cell_type": "code",
   "execution_count": 1,
   "metadata": {
    "ExecuteTime": {
     "end_time": "2017-09-25T08:49:28.157396Z",
     "start_time": "2017-09-25T08:49:27.899343Z"
    },
    "collapsed": true
   },
   "outputs": [],
   "source": [
    "import argparse\n",
    "import glob\n",
    "import os\n",
    "import time\n",
    "\n",
    "import numpy as np\n",
    "import pandas as pd\n",
    "import cv2"
   ]
  },
  {
   "cell_type": "code",
   "execution_count": 2,
   "metadata": {
    "ExecuteTime": {
     "end_time": "2017-09-25T08:49:28.453112Z",
     "start_time": "2017-09-25T08:49:28.158519Z"
    },
    "collapsed": true
   },
   "outputs": [],
   "source": [
    "parser = {\n",
    "    'val_path': '../data/val768/',\n",
    "    'val_masks_path': '../data/val768_masks/',\n",
    "    'test_path': '../data/test_hq/',\n",
    "    'intermediate_path': '../intermediate/output/',\n",
    "    'output_paths': ['output_tn_41/'],\n",
    "    'submission_name': 'subu45.csv',\n",
    "    'log_every': 1000,\n",
    "}\n",
    "args = argparse.Namespace(**parser)\n",
    "\n",
    "args.output_paths = [os.path.join(args.intermediate_path, x)\n",
    "                     for x in args.output_paths]\n",
    "args.img_names = sorted([x.split('/')[-1]\n",
    "                         for x in glob.glob(args.test_path + '/*.jpg')])"
   ]
  },
  {
   "cell_type": "code",
   "execution_count": 3,
   "metadata": {
    "ExecuteTime": {
     "end_time": "2017-09-25T08:49:28.459843Z",
     "start_time": "2017-09-25T08:49:28.454160Z"
    },
    "collapsed": true
   },
   "outputs": [],
   "source": [
    "def rle_encode(mask_image):\n",
    "    pixels = mask_image.flatten()\n",
    "    # We avoid issues with '1' at the start or end (at the corners of \n",
    "    # the original image) by setting those pixels to '0' explicitly.\n",
    "    # We do not expect these to be non-zero for an accurate mask, \n",
    "    # so this should not harm the score.\n",
    "    pixels[0] = 0\n",
    "    pixels[-1] = 0\n",
    "    runs = np.where(pixels[1:] != pixels[:-1])[0] + 2\n",
    "    runs[1::2] = runs[1::2] - runs[:-1:2]\n",
    "    return runs"
   ]
  },
  {
   "cell_type": "code",
   "execution_count": null,
   "metadata": {
    "ExecuteTime": {
     "start_time": "2017-09-25T08:49:27.900Z"
    },
    "collapsed": true
   },
   "outputs": [],
   "source": [
    "def get_mask(output_paths, index, weights=None):\n",
    "    if weights is None:\n",
    "        weights = [1] * len(output_paths)\n",
    "    \n",
    "    img = 0\n",
    "    for i, path in enumerate(output_paths):\n",
    "        file = os.path.join(path, str(index)+'.jpg')\n",
    "        image = cv2.imread(file, cv2.IMREAD_GRAYSCALE).astype(np.uint16)\n",
    "        img = img + image * weights[i]\n",
    "    img = img / sum(weights)\n",
    "    return img > 127.5"
   ]
  },
  {
   "cell_type": "code",
   "execution_count": null,
   "metadata": {
    "ExecuteTime": {
     "start_time": "2017-09-25T08:49:27.902Z"
    }
   },
   "outputs": [
    {
     "name": "stdout",
     "output_type": "stream",
     "text": [
      "Done   1000 images in 22s\n",
      "Done   2000 images in 44s\n",
      "Done   3000 images in 67s\n",
      "Done   4000 images in 88s\n",
      "Done   5000 images in 110s\n",
      "Done   6000 images in 132s\n",
      "Done   7000 images in 154s\n",
      "Done   8000 images in 177s\n",
      "Done   9000 images in 199s\n",
      "Done  10000 images in 224s\n",
      "Done  11000 images in 248s\n",
      "Done  12000 images in 270s\n",
      "Done  13000 images in 292s\n",
      "Done  14000 images in 314s\n",
      "Done  15000 images in 336s\n",
      "Done  16000 images in 358s\n",
      "Done  17000 images in 380s\n",
      "Done  18000 images in 403s\n",
      "Done  19000 images in 426s\n",
      "Done  20000 images in 448s\n",
      "Done  21000 images in 470s\n",
      "Done  22000 images in 491s\n",
      "Done  23000 images in 514s\n",
      "Done  24000 images in 536s\n",
      "Done  25000 images in 558s\n",
      "Done  26000 images in 580s\n",
      "Done  27000 images in 601s\n",
      "Done  28000 images in 624s\n",
      "Done  29000 images in 647s\n",
      "Done  30000 images in 669s\n",
      "Done  31000 images in 691s\n",
      "Done  32000 images in 714s\n",
      "Done  33000 images in 735s\n",
      "Done  34000 images in 757s\n",
      "Done  35000 images in 779s\n",
      "Done  36000 images in 803s\n",
      "Done  37000 images in 826s\n",
      "Done  38000 images in 848s\n",
      "Done  39000 images in 871s\n",
      "Done  40000 images in 894s\n",
      "Done  41000 images in 916s\n",
      "Done  42000 images in 939s\n",
      "Done  43000 images in 961s\n",
      "Done  44000 images in 983s\n",
      "Done  45000 images in 1005s\n",
      "Done  46000 images in 1028s\n",
      "Done  47000 images in 1050s\n",
      "Done  48000 images in 1072s\n",
      "Done  49000 images in 1094s\n",
      "Done  50000 images in 1116s\n",
      "Done  51000 images in 1138s\n",
      "Done  52000 images in 1160s\n",
      "Done  53000 images in 1184s\n",
      "Done  54000 images in 1207s\n",
      "Done  55000 images in 1229s\n",
      "Done  56000 images in 1252s\n",
      "Done  57000 images in 1275s\n"
     ]
    }
   ],
   "source": [
    "list_rle = []\n",
    "init_time = time.time()\n",
    "for i in range(1, len(args.img_names)+1):\n",
    "    mask = get_mask(args.output_paths, i)\n",
    "    rle = rle_encode(mask)\n",
    "    list_rle.append(' '.join(str(x) for x in rle))\n",
    "    \n",
    "    if i % args.log_every == 0:\n",
    "        print(\"Done {:6} images in {:.0f}s\".format(i, time.time()-init_time))"
   ]
  },
  {
   "cell_type": "code",
   "execution_count": null,
   "metadata": {
    "ExecuteTime": {
     "start_time": "2017-09-25T08:49:27.903Z"
    },
    "collapsed": true
   },
   "outputs": [],
   "source": [
    "df = pd.DataFrame({\"img\": args.img_names, \"rle_mask\": list_rle})\n",
    "submiss_path = os.path.join(args.intermediate_path, args.submission_name)\n",
    "df.to_csv(submiss_path, index=False)"
   ]
  }
 ],
 "metadata": {
  "kernelspec": {
   "display_name": "Python (pydata)",
   "language": "python",
   "name": "pydata"
  },
  "language_info": {
   "codemirror_mode": {
    "name": "ipython",
    "version": 3
   },
   "file_extension": ".py",
   "mimetype": "text/x-python",
   "name": "python",
   "nbconvert_exporter": "python",
   "pygments_lexer": "ipython3",
   "version": "3.5.4"
  }
 },
 "nbformat": 4,
 "nbformat_minor": 2
}
