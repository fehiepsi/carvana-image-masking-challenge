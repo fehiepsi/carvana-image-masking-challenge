{
 "cells": [
  {
   "cell_type": "markdown",
   "metadata": {},
   "source": [
    "### setup"
   ]
  },
  {
   "cell_type": "code",
   "execution_count": 1,
   "metadata": {
    "ExecuteTime": {
     "end_time": "2017-09-25T15:01:08.173654Z",
     "start_time": "2017-09-25T15:01:08.168006Z"
    },
    "collapsed": true
   },
   "outputs": [],
   "source": [
    "import argparse\n",
    "import glob\n",
    "import os\n",
    "import pickle\n",
    "import random\n",
    "import shutil\n",
    "import time"
   ]
  },
  {
   "cell_type": "code",
   "execution_count": 2,
   "metadata": {
    "ExecuteTime": {
     "end_time": "2017-09-25T15:01:08.852902Z",
     "start_time": "2017-09-25T15:01:08.548947Z"
    },
    "collapsed": true
   },
   "outputs": [],
   "source": [
    "import numpy as np\n",
    "import pandas as pd\n",
    "%matplotlib inline\n",
    "import matplotlib.pyplot as plt\n",
    "import cv2"
   ]
  },
  {
   "cell_type": "code",
   "execution_count": 3,
   "metadata": {
    "ExecuteTime": {
     "end_time": "2017-09-25T15:01:09.424982Z",
     "start_time": "2017-09-25T15:01:08.853950Z"
    },
    "collapsed": true
   },
   "outputs": [],
   "source": [
    "import torch\n",
    "import torch.nn as nn\n",
    "import torch.nn.functional as F\n",
    "from torch.autograd import Variable\n",
    "import torch.optim as optim\n",
    "from torch.optim.lr_scheduler import MultiStepLR\n",
    "from torch.utils.data import DataLoader, Dataset\n",
    "from torch.utils.data.sampler import Sampler\n",
    "import torchvision.transforms as transforms\n",
    "\n",
    "# torch.backends.cudnn.benchmark=True"
   ]
  },
  {
   "cell_type": "code",
   "execution_count": 4,
   "metadata": {
    "ExecuteTime": {
     "end_time": "2017-09-25T15:01:09.485732Z",
     "start_time": "2017-09-25T15:01:09.425984Z"
    },
    "collapsed": true
   },
   "outputs": [],
   "source": [
    "parser = {\n",
    "    'train_path': '../data/train4320/',\n",
    "    'train_masks_path': '../data/train4320_masks/',\n",
    "    'val_path': '../data/val768/',\n",
    "    'val_masks_path': '../data/val768_masks/',\n",
    "    'test_path': '../data/test_hq/',\n",
    "    'output_path': '../intermediate/output_tn/',\n",
    "    'split_data': False,\n",
    "    'batch_size': 4,\n",
    "    'log_every': 100,\n",
    "    'train': True,\n",
    "    'model_name': '',\n",
    "    'test': False,\n",
    "    'seed': 20170922,\n",
    "}\n",
    "args = argparse.Namespace(**parser)\n",
    "\n",
    "torch.manual_seed(args.seed)\n",
    "\n",
    "args.intermediate_path = os.path.join('../intermediate/',\n",
    "#                                      str(args.seed), 'dn')\n",
    "                                      'output/')\n",
    "if not os.path.isdir(args.intermediate_path):\n",
    "    os.mkdir(args.intermediate_path)"
   ]
  },
  {
   "cell_type": "code",
   "execution_count": 5,
   "metadata": {
    "ExecuteTime": {
     "end_time": "2017-09-25T15:01:09.556656Z",
     "start_time": "2017-09-25T15:01:09.486950Z"
    },
    "collapsed": true
   },
   "outputs": [],
   "source": [
    "if args.split_data:\n",
    "    # !mogrify -format png *.gif\n",
    "    if not os.path.isdir(args.train_path):\n",
    "        os.mkdir(args.train_path)\n",
    "    if not os.path.isdir(args.train_masks_path):\n",
    "        os.mkdir(args.train_masks_path)\n",
    "    if not os.path.isdir(args.val_path):\n",
    "        os.mkdir(args.val_path)\n",
    "    if not os.path.isdir(args.val_masks_path):\n",
    "        os.mkdir(args.val_masks_path)\n",
    "    files = sorted([x.split('/')[-1]\n",
    "                    for x in glob.glob('../data/train_hq/*.jpg')])\n",
    "    random.seed(args.seed)\n",
    "    random.shuffle(files)\n",
    "    for filename in files[:4320]:\n",
    "        image = cv2.imread('../data/train_hq/' + filename)\n",
    "        image = cv2.resize(image, (1024, 1024))\n",
    "        cv2.imwrite(os.path.join(args.train_path, filename), image)\n",
    "        mask_filename = '../data/train_masks/'+filename.replace('.jpg',\n",
    "                                                                '_mask.png')\n",
    "        shutil.copy2(mask_filename, args.train_masks_path)\n",
    "    for filename in files[4320:]:\n",
    "        image = cv2.imread('../data/train_hq/' + filename)\n",
    "        image = cv2.resize(image, (1024, 1024))\n",
    "        cv2.imwrite(os.path.join(args.val_path, filename), image)\n",
    "        mask_filename = '../data/train_masks/'+filename.replace('.jpg',\n",
    "                                                                '_mask.png')\n",
    "        shutil.copy2(mask_filename, args.val_masks_path)"
   ]
  },
  {
   "cell_type": "markdown",
   "metadata": {},
   "source": [
    "### model"
   ]
  },
  {
   "cell_type": "code",
   "execution_count": 6,
   "metadata": {
    "ExecuteTime": {
     "end_time": "2017-09-25T15:01:09.626354Z",
     "start_time": "2017-09-25T15:01:09.558109Z"
    },
    "collapsed": true
   },
   "outputs": [],
   "source": [
    "class ConvBnRelu2d(nn.Module):\n",
    "    \n",
    "    def __init__(self, in_channels, out_channels, kernel_size=3, dilation=1):\n",
    "        super(ConvBnRelu2d, self).__init__()\n",
    "        padding = kernel_size//2 * dilation\n",
    "        self.conv = nn.Conv2d(in_channels, out_channels, kernel_size,\n",
    "                              dilation=dilation, padding=padding, bias=False)\n",
    "        self.bn   = nn.BatchNorm2d(out_channels)\n",
    "\n",
    "    def forward(self, x):\n",
    "        o = self.conv(x)\n",
    "        if self.bn is not None:\n",
    "            o = self.bn(o)\n",
    "        return F.relu(o, inplace=True)"
   ]
  },
  {
   "cell_type": "code",
   "execution_count": 7,
   "metadata": {
    "ExecuteTime": {
     "end_time": "2017-09-25T15:01:09.720618Z",
     "start_time": "2017-09-25T15:01:09.692443Z"
    },
    "collapsed": true
   },
   "outputs": [],
   "source": [
    "class StackEncoder(nn.Module):\n",
    "    \n",
    "    def __init__(self, in_channels, out_channels, kernel_size=3):\n",
    "        super(StackEncoder, self).__init__()\n",
    "        self.encode = nn.Sequential(\n",
    "            ConvBnRelu2d(in_channels, out_channels, kernel_size),\n",
    "            ConvBnRelu2d(out_channels, out_channels, kernel_size, dilation=2))\n",
    "\n",
    "    def forward(self, x):\n",
    "        e = self.encode(x)\n",
    "        o = F.max_pool2d(e, kernel_size=2, stride=2)\n",
    "        return e, o"
   ]
  },
  {
   "cell_type": "code",
   "execution_count": 8,
   "metadata": {
    "ExecuteTime": {
     "end_time": "2017-09-25T15:01:09.915393Z",
     "start_time": "2017-09-25T15:01:09.874144Z"
    },
    "collapsed": true
   },
   "outputs": [],
   "source": [
    "class StackDecoder(nn.Module):\n",
    "    \n",
    "    def __init__(self, e_channels, in_channels, out_channels, kernel_size=3):\n",
    "        super(StackDecoder, self).__init__()\n",
    "        self.upsample = nn.ConvTranspose2d(in_channels, in_channels,\n",
    "                                           kernel_size=2, stride=2)\n",
    "        self.decode = nn.Sequential(\n",
    "            ConvBnRelu2d(e_channels+in_channels, out_channels, kernel_size),\n",
    "            ConvBnRelu2d(out_channels, out_channels, kernel_size),\n",
    "            ConvBnRelu2d(out_channels, out_channels, kernel_size))\n",
    "\n",
    "    def forward(self, e, x):\n",
    "        N,C,H,W = e.size()\n",
    "        x = self.upsample(x)\n",
    "#        x = F.upsample(x, size=(H,W), mode='bilinear')\n",
    "        x = torch.cat([e, x], dim=1)\n",
    "        return self.decode(x)"
   ]
  },
  {
   "cell_type": "code",
   "execution_count": 9,
   "metadata": {
    "ExecuteTime": {
     "end_time": "2017-09-25T15:01:10.155747Z",
     "start_time": "2017-09-25T15:01:10.057062Z"
    },
    "collapsed": true
   },
   "outputs": [],
   "source": [
    "class UNet1024(nn.Module):\n",
    "    \n",
    "    def __init__(self, in_shape):\n",
    "        super(UNet1024, self).__init__()\n",
    "        C,H,W = in_shape\n",
    "\n",
    "        # 1024\n",
    "        self.down1 = StackEncoder(  C,  24)  # 512\n",
    "        self.down2 = StackEncoder( 24,  64)  # 256\n",
    "        self.down3 = StackEncoder( 64, 128)  # 128\n",
    "        self.down4 = StackEncoder(128, 256)  # 64\n",
    "        self.down5 = StackEncoder(256, 512)  # 32\n",
    "        self.down6 = StackEncoder(512, 768)  # 16\n",
    "\n",
    "        self.center = ConvBnRelu2d(768, 768)\n",
    "\n",
    "        # 16\n",
    "        self.up6 = StackDecoder(768, 768, 512)  # 32\n",
    "        self.up5 = StackDecoder(512, 512, 256)  # 64\n",
    "        self.up4 = StackDecoder(256, 256, 128)  # 128\n",
    "        self.up3 = StackDecoder(128, 128,  64)  # 256\n",
    "        self.up2 = StackDecoder( 64,  64,  24)  # 512\n",
    "        self.up1 = StackDecoder( 24,  24,  24)  # 1024\n",
    "        \n",
    "        self.mask = nn.Conv2d(24, 1, kernel_size=1)\n",
    "\n",
    "    def forward(self, x):\n",
    "        e1, o = self.down1(x)\n",
    "        e2, o = self.down2(o)\n",
    "        e3, o = self.down3(o)\n",
    "        e4, o = self.down4(o)\n",
    "        e5, o = self.down5(o)\n",
    "        e6, o = self.down6(o)\n",
    "\n",
    "        o = self.center(o)\n",
    "        \n",
    "        o = self.up6(e6, o)\n",
    "        o = self.up5(e5, o)\n",
    "        o = self.up4(e4, o)\n",
    "        o = self.up3(e3, o)\n",
    "        o = self.up2(e2, o)\n",
    "        o = self.up1(e1, o)\n",
    "\n",
    "        o = self.mask(o)\n",
    "        o = F.upsample(o, size=(1280,1918), mode='bilinear')\n",
    "        return torch.squeeze(o, dim=1)"
   ]
  },
  {
   "cell_type": "markdown",
   "metadata": {},
   "source": [
    "### utils"
   ]
  },
  {
   "cell_type": "code",
   "execution_count": 10,
   "metadata": {
    "ExecuteTime": {
     "end_time": "2017-09-25T15:01:10.505055Z",
     "start_time": "2017-09-25T15:01:10.421826Z"
    },
    "collapsed": true
   },
   "outputs": [],
   "source": [
    "def dice_score(probs, target, weight=None, use_mask=True, threshold=0.5):\n",
    "    if use_mask:\n",
    "        probs = (probs > threshold).float()\n",
    "    N     = target.size(0)\n",
    "    if weight is None:\n",
    "        w = Variable(torch.ones(target.size()).cuda()).view(N, -1)\n",
    "    else:\n",
    "        w = weight.view(N, -1)\n",
    "    w2    = w*w\n",
    "    m1    = probs.view(N, -1)\n",
    "    m2    = target.view(N, -1)\n",
    "    score = (2*(w2*m1*m2).sum(dim=1) + 1) / ((w2*m1).sum(dim=1) + (w2*m2).sum(dim=1) + 1)\n",
    "    \n",
    "    return score.sum()/N\n",
    "\n",
    "\n",
    "def dice_loss(logits, target, weight=None):\n",
    "    probs = F.sigmoid(logits)\n",
    "    loss  = 1 - dice_score(probs, target, weight, use_mask=False)\n",
    "    \n",
    "    return loss\n",
    "\n",
    "\n",
    "def criterion(logits, target):\n",
    "    N,H,W = target.size()\n",
    "    a = F.avg_pool2d(target, kernel_size=41, stride=1, padding=20)\n",
    "    boundary = (a.ge(0.01) * a.le(0.99)).float()\n",
    "    weight = Variable(torch.ones(a.size()).cuda())\n",
    "    w0 = weight.sum()\n",
    "    weight = weight + 2*boundary\n",
    "    w1 = weight.sum()\n",
    "    weight = weight*w0/w1\n",
    "        \n",
    "    return (F.binary_cross_entropy_with_logits(logits, target, weight),\n",
    "            dice_loss(logits, target, weight))"
   ]
  },
  {
   "cell_type": "code",
   "execution_count": 11,
   "metadata": {
    "ExecuteTime": {
     "end_time": "2017-09-25T15:01:10.889454Z",
     "start_time": "2017-09-25T15:01:10.880104Z"
    },
    "collapsed": true
   },
   "outputs": [],
   "source": [
    "def image_to_tensor(image):\n",
    "    image = image.transpose((2,0,1)).astype(np.float32)  # HWC -> CHW\n",
    "    tensor = torch.from_numpy(image)\n",
    "    return tensor\n",
    "\n",
    "\n",
    "def label_to_tensor(label, threshold=0.5):\n",
    "    label  = (label>threshold).astype(np.float32)\n",
    "    tensor = torch.from_numpy(label)\n",
    "    return tensor"
   ]
  },
  {
   "cell_type": "code",
   "execution_count": 12,
   "metadata": {
    "ExecuteTime": {
     "end_time": "2017-09-25T15:01:11.223172Z",
     "start_time": "2017-09-25T15:01:11.124551Z"
    },
    "collapsed": true
   },
   "outputs": [],
   "source": [
    "class CarDataset(Dataset):\n",
    "\n",
    "    def __init__(self, image_path, mask_path='', transform=[], mode='train'):\n",
    "        super(CarDataset, self).__init__()\n",
    "        self.img_names = sorted([x.split('/')[-1] for x in glob.glob(image_path + '/*.jpg')])\n",
    "        self.img_path  = image_path\n",
    "        self.mask_path = mask_path\n",
    "        self.transform = transform\n",
    "        self.mode      = mode\n",
    "\n",
    "    def get_image(self, index):\n",
    "        name  = self.img_names[index]\n",
    "        file  = os.path.join(self.img_path, name)\n",
    "        img   = cv2.imread(file)\n",
    "        image = img / 255\n",
    "        return image, name\n",
    "    \n",
    "    def get_label(self, name):\n",
    "        name = name.replace('.jpg', '_mask.png')\n",
    "        file = os.path.join(self.mask_path, name)\n",
    "        mask = cv2.imread(file, cv2.IMREAD_GRAYSCALE)\n",
    "        label = mask / 255\n",
    "        return label\n",
    "\n",
    "    def get_train_item(self, index):\n",
    "        image, name = self.get_image(index)\n",
    "        label = self.get_label(name)\n",
    "        image = image_to_tensor(image)\n",
    "        label = label_to_tensor(label)\n",
    "        return image, label\n",
    "\n",
    "    def get_test_item(self, index):\n",
    "        image, _ = self.get_image(index)\n",
    "        image = cv2.resize(image, (1024, 1024))\n",
    "        image = image_to_tensor(image)\n",
    "        return image\n",
    "\n",
    "    def __getitem__(self, index):\n",
    "        if self.mode == 'train':\n",
    "            return self.get_train_item(index)\n",
    "        elif self.mode == 'test':\n",
    "            return self.get_test_item(index)\n",
    "\n",
    "    def __len__(self):\n",
    "        return len(self.img_names)"
   ]
  },
  {
   "cell_type": "code",
   "execution_count": 13,
   "metadata": {
    "ExecuteTime": {
     "end_time": "2017-09-25T15:01:11.578209Z",
     "start_time": "2017-09-25T15:01:11.555407Z"
    },
    "collapsed": true
   },
   "outputs": [],
   "source": [
    "def train(train_loader, model, optimizer):\n",
    "    num_grad_acc = 16 // args.batch_size\n",
    "    model.train()\n",
    "    train_bce_loss = 0\n",
    "    train_score = 0\n",
    "    init_time = time.time()\n",
    "    optimizer.zero_grad()\n",
    "    for i, (inputt, target) in enumerate(train_loader, 1):\n",
    "        inputt = inputt.cuda()\n",
    "        target = target.cuda()\n",
    "        inputt = Variable(inputt)\n",
    "        target = Variable(target)\n",
    "        \n",
    "        output = model(inputt)\n",
    "        bce_loss, dice_loss = criterion(output, target)\n",
    "        loss = bce_loss + dice_loss\n",
    "        loss.backward()\n",
    "        if i % num_grad_acc == 0:\n",
    "            optimizer.step()\n",
    "            optimizer.zero_grad()\n",
    "        train_bce_loss += bce_loss.data[0] * inputt.size(0)\n",
    "        train_score += (1-dice_loss).data[0] * inputt.size(0)\n",
    "        if i % args.log_every == 0:\n",
    "            print(\"   % Time: {:4.0f}s | Batch: {:4} | \"\n",
    "                  \"Train bce loss: {:.5f} | Train score: {:.5f}\"\n",
    "                  .format(time.time()-init_time, i,\n",
    "                          bce_loss.data[0], (1-dice_loss).data[0]))\n",
    "    return (train_bce_loss / len(train_loader.dataset),\n",
    "            train_score / len(train_loader.dataset))"
   ]
  },
  {
   "cell_type": "code",
   "execution_count": 14,
   "metadata": {
    "ExecuteTime": {
     "end_time": "2017-09-25T15:01:12.347585Z",
     "start_time": "2017-09-25T15:01:12.338841Z"
    },
    "collapsed": true
   },
   "outputs": [],
   "source": [
    "def validate(val_loader, model):\n",
    "    model.eval()\n",
    "    val_score = 0\n",
    "    for i, (inputt, target) in enumerate(val_loader, 1):\n",
    "        inputt = inputt.cuda()\n",
    "        target = target.cuda()\n",
    "        inputt = Variable(inputt, volatile=True)\n",
    "        target = Variable(target)\n",
    "        \n",
    "        output = model(inputt)\n",
    "        score = dice_score(F.sigmoid(output), target)\n",
    "        val_score += score.data[0] * inputt.size(0)\n",
    "    return val_score / len(val_loader.dataset)"
   ]
  },
  {
   "cell_type": "code",
   "execution_count": 15,
   "metadata": {
    "ExecuteTime": {
     "end_time": "2017-09-25T15:01:12.808296Z",
     "start_time": "2017-09-25T15:01:12.803663Z"
    },
    "collapsed": true
   },
   "outputs": [],
   "source": [
    "def save_model(model, epoch, score):\n",
    "    model_file = os.path.join(args.intermediate_path,\n",
    "                              \"model_{}_epoch{}_score{:.5f}.pth\"\n",
    "                              .format(args.seed, epoch, score))\n",
    "    torch.save(model.state_dict(), model_file)"
   ]
  },
  {
   "cell_type": "code",
   "execution_count": 16,
   "metadata": {
    "ExecuteTime": {
     "end_time": "2017-09-25T15:01:13.317971Z",
     "start_time": "2017-09-25T15:01:13.313089Z"
    },
    "collapsed": true
   },
   "outputs": [],
   "source": [
    "def load_model(model, model_name):\n",
    "    model_path = os.path.join(args.intermediate_path, model_name)\n",
    "    assert os.path.isfile(model_path), 'Error: no model found!'\n",
    "    model_state = torch.load(model_path)\n",
    "    model.load_state_dict(model_state)"
   ]
  },
  {
   "cell_type": "code",
   "execution_count": 17,
   "metadata": {
    "ExecuteTime": {
     "end_time": "2017-09-25T15:01:13.847282Z",
     "start_time": "2017-09-25T15:01:13.839311Z"
    },
    "collapsed": true
   },
   "outputs": [],
   "source": [
    "def rle_encode(mask_image):\n",
    "    pixels = mask_image.flatten()\n",
    "    # We avoid issues with '1' at the start or end (at the corners of \n",
    "    # the original image) by setting those pixels to '0' explicitly.\n",
    "    # We do not expect these to be non-zero for an accurate mask, \n",
    "    # so this should not harm the score.\n",
    "    pixels[0] = 0\n",
    "    pixels[-1] = 0\n",
    "    runs = np.where(pixels[1:] != pixels[:-1])[0] + 2\n",
    "    runs[1::2] = runs[1::2] - runs[:-1:2]\n",
    "    return runs"
   ]
  },
  {
   "cell_type": "code",
   "execution_count": 18,
   "metadata": {
    "ExecuteTime": {
     "end_time": "2017-09-25T15:01:14.431846Z",
     "start_time": "2017-09-25T15:01:14.413443Z"
    },
    "collapsed": true
   },
   "outputs": [],
   "source": [
    "def test(test_loader, model, threshold=0.5):\n",
    "    model.eval()\n",
    "    init_time = time.time()\n",
    "    list_rle = []\n",
    "    c = 0\n",
    "    for i, imgs in enumerate(test_loader, 1):\n",
    "        imgs = imgs.cuda()\n",
    "        imgs = Variable(imgs, volatile=True)\n",
    "        outputs = model(imgs)\n",
    "        for j in range(outputs.size(0)):\n",
    "            c += 1\n",
    "            image = outputs[j, :, :].data.cpu().numpy()\n",
    "            cv2.imwrite(os.path.join(args.output_path, str(c)+'.jpg'), image)\n",
    "#        outputs = outputs > threshold\n",
    "#        for j in range(outputs.size(0)):\n",
    "#            rle = rle_encode(outputs[j, :, :].data.cpu().numpy())\n",
    "#            list_rle.append(' '.join(str(x) for x in rle))\n",
    "            \n",
    "        if i % args.log_every == 0:\n",
    "            print(\"   % Time: {:4.0f}s | Image: {:6d} / {}\"\n",
    "                  .format(time.time()-init_time, i*args.batch_size,\n",
    "                          len(test_loader.dataset)))\n",
    "    return list_rle"
   ]
  },
  {
   "cell_type": "markdown",
   "metadata": {},
   "source": [
    "### prepare"
   ]
  },
  {
   "cell_type": "code",
   "execution_count": 19,
   "metadata": {
    "ExecuteTime": {
     "end_time": "2017-09-25T15:01:15.881283Z",
     "start_time": "2017-09-25T15:01:15.868271Z"
    },
    "collapsed": true
   },
   "outputs": [],
   "source": [
    "train_dataset = CarDataset(args.train_path, args.train_masks_path,\n",
    "                           transform=[], mode='train')\n",
    "train_loader  = DataLoader(train_dataset, args.batch_size, shuffle=True, num_workers=7)"
   ]
  },
  {
   "cell_type": "code",
   "execution_count": 20,
   "metadata": {
    "ExecuteTime": {
     "end_time": "2017-09-25T15:01:16.088631Z",
     "start_time": "2017-09-25T15:01:16.076133Z"
    },
    "collapsed": true
   },
   "outputs": [],
   "source": [
    "val_dataset = CarDataset(args.val_path, args.val_masks_path,\n",
    "                         transform=[], mode='train')\n",
    "val_loader  = DataLoader(val_dataset, args.batch_size, num_workers=7)"
   ]
  },
  {
   "cell_type": "code",
   "execution_count": 21,
   "metadata": {
    "ExecuteTime": {
     "end_time": "2017-09-25T15:01:17.716015Z",
     "start_time": "2017-09-25T15:01:16.295737Z"
    },
    "collapsed": true
   },
   "outputs": [],
   "source": [
    "model = UNet1024((3, 1024, 1024))\n",
    "model.cuda()\n",
    "\n",
    "optimizer = optim.SGD(model.parameters(), lr=0.01, momentum=0.9,\n",
    "                      weight_decay=0.0005)\n",
    "scheduler = MultiStepLR(optimizer, milestones=[40])"
   ]
  },
  {
   "cell_type": "markdown",
   "metadata": {},
   "source": [
    "### train"
   ]
  },
  {
   "cell_type": "code",
   "execution_count": 22,
   "metadata": {
    "ExecuteTime": {
     "end_time": "2017-09-25T15:02:13.928575Z",
     "start_time": "2017-09-25T15:01:17.717300Z"
    },
    "collapsed": true
   },
   "outputs": [],
   "source": [
    "if 1 == 1:\n",
    "    load_model(model, 'model_dn_31.pth')\n",
    "    model.eval()\n",
    "    output_list = []\n",
    "    for i, (inputt, _) in enumerate(val_loader, 1):\n",
    "        inputt = inputt.cuda()\n",
    "        inputt = Variable(inputt, volatile=True)\n",
    "        output = F.sigmoid(model(inputt)) * 255\n",
    "        output_list.append(output.data.cpu().numpy().astype(np.uint8))\n",
    "    val_dn_31 = np.concatenate(output_list)\n",
    "    with open('../intermediate/output/val_dn_31.pkl', 'wb') as f:\n",
    "        pickle.dump(val_dn_31, f)"
   ]
  },
  {
   "cell_type": "code",
   "execution_count": null,
   "metadata": {
    "ExecuteTime": {
     "start_time": "2017-09-25T01:40:19.225Z"
    },
    "scrolled": false
   },
   "outputs": [
    {
     "name": "stdout",
     "output_type": "stream",
     "text": [
      "=> EPOCH 0 with lr [0.01]\n",
      "   % Time:   82s | Batch:  100 | Train bce loss: 0.23395 | Train score: 0.68680\n",
      "   % Time:  163s | Batch:  200 | Train bce loss: 0.14720 | Train score: 0.78027\n",
      "   % Time:  245s | Batch:  300 | Train bce loss: 0.13802 | Train score: 0.82270\n",
      "   % Time:  326s | Batch:  400 | Train bce loss: 0.07571 | Train score: 0.88441\n",
      "   % Time:  408s | Batch:  500 | Train bce loss: 0.09579 | Train score: 0.90231\n",
      "   % Time:  489s | Batch:  600 | Train bce loss: 0.04943 | Train score: 0.94417\n",
      "   % Time:  571s | Batch:  700 | Train bce loss: 0.05793 | Train score: 0.93561\n",
      "   % Time:  652s | Batch:  800 | Train bce loss: 0.03596 | Train score: 0.94465\n",
      "   % Time:  734s | Batch:  900 | Train bce loss: 0.06466 | Train score: 0.93624\n",
      "   % Time:  815s | Batch: 1000 | Train bce loss: 0.02209 | Train score: 0.96063\n",
      "==========\n",
      "   % Time:  923s | Epoch:    0 | Train bce loss: 0.12213 | Train score: 0.85382 | Val score: 0.98681\n",
      "==========\n",
      "=> EPOCH 1 with lr [0.01]\n",
      "   % Time:   82s | Batch:  100 | Train bce loss: 0.03332 | Train score: 0.95498\n",
      "   % Time:  164s | Batch:  200 | Train bce loss: 0.01729 | Train score: 0.96710\n",
      "   % Time:  245s | Batch:  300 | Train bce loss: 0.02001 | Train score: 0.96470\n",
      "   % Time:  327s | Batch:  400 | Train bce loss: 0.03631 | Train score: 0.96180\n",
      "   % Time:  408s | Batch:  500 | Train bce loss: 0.02519 | Train score: 0.95636\n",
      "   % Time:  490s | Batch:  600 | Train bce loss: 0.02992 | Train score: 0.95624\n",
      "   % Time:  571s | Batch:  700 | Train bce loss: 0.02382 | Train score: 0.96800\n",
      "   % Time:  653s | Batch:  800 | Train bce loss: 0.02649 | Train score: 0.96822\n",
      "   % Time:  734s | Batch:  900 | Train bce loss: 0.02070 | Train score: 0.96808\n",
      "   % Time:  816s | Batch: 1000 | Train bce loss: 0.01808 | Train score: 0.96999\n",
      "==========\n",
      "   % Time:  924s | Epoch:    1 | Train bce loss: 0.02650 | Train score: 0.96189 | Val score: 0.66094\n",
      "==========\n",
      "=> EPOCH 2 with lr [0.01]\n",
      "   % Time:   82s | Batch:  100 | Train bce loss: 0.03412 | Train score: 0.95293\n",
      "   % Time:  164s | Batch:  200 | Train bce loss: 0.01701 | Train score: 0.97320\n",
      "   % Time:  245s | Batch:  300 | Train bce loss: 0.02715 | Train score: 0.96891\n",
      "   % Time:  327s | Batch:  400 | Train bce loss: 0.02622 | Train score: 0.97119\n",
      "   % Time:  408s | Batch:  500 | Train bce loss: 0.02070 | Train score: 0.97153\n",
      "   % Time:  490s | Batch:  600 | Train bce loss: 0.01935 | Train score: 0.97119\n",
      "   % Time:  571s | Batch:  700 | Train bce loss: 0.01273 | Train score: 0.97476\n",
      "   % Time:  653s | Batch:  800 | Train bce loss: 0.01997 | Train score: 0.97263\n",
      "   % Time:  734s | Batch:  900 | Train bce loss: 0.01695 | Train score: 0.97285\n",
      "   % Time:  816s | Batch: 1000 | Train bce loss: 0.01611 | Train score: 0.97279\n",
      "==========\n",
      "   % Time:  924s | Epoch:    2 | Train bce loss: 0.02016 | Train score: 0.97069 | Val score: 0.99382\n",
      "==========\n",
      "=> EPOCH 3 with lr [0.01]\n",
      "   % Time:   82s | Batch:  100 | Train bce loss: 0.01952 | Train score: 0.97068\n",
      "   % Time:  164s | Batch:  200 | Train bce loss: 0.01470 | Train score: 0.97584\n",
      "   % Time:  245s | Batch:  300 | Train bce loss: 0.01957 | Train score: 0.97337\n",
      "   % Time:  327s | Batch:  400 | Train bce loss: 0.01928 | Train score: 0.97548\n",
      "   % Time:  408s | Batch:  500 | Train bce loss: 0.01603 | Train score: 0.97508\n",
      "   % Time:  490s | Batch:  600 | Train bce loss: 0.01358 | Train score: 0.97457\n",
      "   % Time:  571s | Batch:  700 | Train bce loss: 0.01529 | Train score: 0.97730\n",
      "   % Time:  653s | Batch:  800 | Train bce loss: 0.01849 | Train score: 0.97399\n",
      "   % Time:  735s | Batch:  900 | Train bce loss: 0.01148 | Train score: 0.98030\n",
      "   % Time:  816s | Batch: 1000 | Train bce loss: 0.01374 | Train score: 0.97630\n",
      "==========\n",
      "   % Time:  924s | Epoch:    3 | Train bce loss: 0.01755 | Train score: 0.97434 | Val score: 0.99501\n",
      "==========\n",
      "=> EPOCH 4 with lr [0.01]\n",
      "   % Time:   82s | Batch:  100 | Train bce loss: 0.01321 | Train score: 0.98041\n",
      "   % Time:  164s | Batch:  200 | Train bce loss: 0.01164 | Train score: 0.98231\n",
      "   % Time:  245s | Batch:  300 | Train bce loss: 0.01454 | Train score: 0.97769\n",
      "   % Time:  327s | Batch:  400 | Train bce loss: 0.03026 | Train score: 0.96955\n",
      "   % Time:  408s | Batch:  500 | Train bce loss: 0.02270 | Train score: 0.97083\n",
      "   % Time:  490s | Batch:  600 | Train bce loss: 0.01373 | Train score: 0.97940\n",
      "   % Time:  571s | Batch:  700 | Train bce loss: 0.01507 | Train score: 0.97639\n",
      "   % Time:  653s | Batch:  800 | Train bce loss: 0.01728 | Train score: 0.98022\n",
      "   % Time:  735s | Batch:  900 | Train bce loss: 0.01059 | Train score: 0.98083\n",
      "   % Time:  816s | Batch: 1000 | Train bce loss: 0.01586 | Train score: 0.97650\n",
      "==========\n",
      "   % Time:  924s | Epoch:    4 | Train bce loss: 0.01524 | Train score: 0.97737 | Val score: 0.99480\n",
      "==========\n",
      "=> EPOCH 5 with lr [0.01]\n",
      "   % Time:   82s | Batch:  100 | Train bce loss: 0.01536 | Train score: 0.97507\n",
      "   % Time:  164s | Batch:  200 | Train bce loss: 0.01249 | Train score: 0.97950\n",
      "   % Time:  245s | Batch:  300 | Train bce loss: 0.01513 | Train score: 0.97968\n",
      "   % Time:  327s | Batch:  400 | Train bce loss: 0.01372 | Train score: 0.97791\n",
      "   % Time:  408s | Batch:  500 | Train bce loss: 0.01600 | Train score: 0.97816\n",
      "   % Time:  490s | Batch:  600 | Train bce loss: 0.00970 | Train score: 0.98329\n",
      "   % Time:  571s | Batch:  700 | Train bce loss: 0.01497 | Train score: 0.97896\n",
      "   % Time:  653s | Batch:  800 | Train bce loss: 0.01370 | Train score: 0.97989\n",
      "   % Time:  734s | Batch:  900 | Train bce loss: 0.01478 | Train score: 0.97581\n",
      "   % Time:  816s | Batch: 1000 | Train bce loss: 0.01194 | Train score: 0.97754\n",
      "==========\n",
      "   % Time:  924s | Epoch:    5 | Train bce loss: 0.01447 | Train score: 0.97842 | Val score: 0.62912\n",
      "==========\n",
      "=> EPOCH 6 with lr [0.01]\n",
      "   % Time:   82s | Batch:  100 | Train bce loss: 0.01407 | Train score: 0.98137\n",
      "   % Time:  164s | Batch:  200 | Train bce loss: 0.00985 | Train score: 0.98344\n",
      "   % Time:  245s | Batch:  300 | Train bce loss: 0.01520 | Train score: 0.97790\n",
      "   % Time:  327s | Batch:  400 | Train bce loss: 0.01216 | Train score: 0.97842\n",
      "   % Time:  408s | Batch:  500 | Train bce loss: 0.01379 | Train score: 0.97851\n",
      "   % Time:  490s | Batch:  600 | Train bce loss: 0.01615 | Train score: 0.97699\n",
      "   % Time:  572s | Batch:  700 | Train bce loss: 0.00993 | Train score: 0.98324\n",
      "   % Time:  653s | Batch:  800 | Train bce loss: 0.01191 | Train score: 0.98250\n",
      "   % Time:  735s | Batch:  900 | Train bce loss: 0.01602 | Train score: 0.97955\n",
      "   % Time:  816s | Batch: 1000 | Train bce loss: 0.01783 | Train score: 0.97098\n",
      "==========\n",
      "   % Time:  924s | Epoch:    6 | Train bce loss: 0.01376 | Train score: 0.97942 | Val score: 0.99473\n",
      "==========\n",
      "=> EPOCH 7 with lr [0.01]\n",
      "   % Time:   82s | Batch:  100 | Train bce loss: 0.01098 | Train score: 0.98155\n",
      "   % Time:  164s | Batch:  200 | Train bce loss: 0.01619 | Train score: 0.97702\n",
      "   % Time:  245s | Batch:  300 | Train bce loss: 0.01372 | Train score: 0.98143\n",
      "   % Time:  327s | Batch:  400 | Train bce loss: 0.01297 | Train score: 0.97800\n",
      "   % Time:  409s | Batch:  500 | Train bce loss: 0.01391 | Train score: 0.98109\n",
      "   % Time:  490s | Batch:  600 | Train bce loss: 0.01013 | Train score: 0.98234\n",
      "   % Time:  572s | Batch:  700 | Train bce loss: 0.01297 | Train score: 0.98225\n",
      "   % Time:  653s | Batch:  800 | Train bce loss: 0.01250 | Train score: 0.98155\n",
      "   % Time:  735s | Batch:  900 | Train bce loss: 0.01335 | Train score: 0.98006\n",
      "   % Time:  817s | Batch: 1000 | Train bce loss: 0.01498 | Train score: 0.97878\n",
      "==========\n",
      "   % Time:  926s | Epoch:    7 | Train bce loss: 0.01279 | Train score: 0.98065 | Val score: 0.99567\n",
      "==========\n",
      "=> EPOCH 8 with lr [0.01]\n",
      "   % Time:   82s | Batch:  100 | Train bce loss: 0.01154 | Train score: 0.98185\n",
      "   % Time:  164s | Batch:  200 | Train bce loss: 0.01275 | Train score: 0.98181\n",
      "   % Time:  246s | Batch:  300 | Train bce loss: 0.00993 | Train score: 0.98335\n",
      "   % Time:  328s | Batch:  400 | Train bce loss: 0.00831 | Train score: 0.98486\n",
      "   % Time:  410s | Batch:  500 | Train bce loss: 0.00988 | Train score: 0.98480\n",
      "   % Time:  492s | Batch:  600 | Train bce loss: 0.00811 | Train score: 0.98498\n",
      "   % Time:  574s | Batch:  700 | Train bce loss: 0.01488 | Train score: 0.97961\n",
      "   % Time:  656s | Batch:  800 | Train bce loss: 0.01260 | Train score: 0.98205\n"
     ]
    },
    {
     "name": "stdout",
     "output_type": "stream",
     "text": [
      "   % Time:  738s | Batch:  900 | Train bce loss: 0.01357 | Train score: 0.97886\n",
      "   % Time:  820s | Batch: 1000 | Train bce loss: 0.01169 | Train score: 0.98187\n",
      "==========\n",
      "   % Time:  930s | Epoch:    8 | Train bce loss: 0.01224 | Train score: 0.98144 | Val score: 0.61026\n",
      "==========\n",
      "=> EPOCH 9 with lr [0.01]\n",
      "   % Time:   83s | Batch:  100 | Train bce loss: 0.01019 | Train score: 0.98170\n",
      "   % Time:  164s | Batch:  200 | Train bce loss: 0.00958 | Train score: 0.98482\n",
      "   % Time:  246s | Batch:  300 | Train bce loss: 0.00872 | Train score: 0.98410\n",
      "   % Time:  328s | Batch:  400 | Train bce loss: 0.00786 | Train score: 0.98510\n",
      "   % Time:  410s | Batch:  500 | Train bce loss: 0.01844 | Train score: 0.97831\n",
      "   % Time:  492s | Batch:  600 | Train bce loss: 0.01284 | Train score: 0.98043\n",
      "   % Time:  574s | Batch:  700 | Train bce loss: 0.00952 | Train score: 0.98350\n",
      "   % Time:  656s | Batch:  800 | Train bce loss: 0.01354 | Train score: 0.98253\n",
      "   % Time:  738s | Batch:  900 | Train bce loss: 0.01358 | Train score: 0.97963\n",
      "   % Time:  820s | Batch: 1000 | Train bce loss: 0.00804 | Train score: 0.98652\n",
      "==========\n",
      "   % Time:  930s | Epoch:    9 | Train bce loss: 0.01155 | Train score: 0.98234 | Val score: 0.99612\n",
      "==========\n",
      "=> EPOCH 10 with lr [0.01]\n",
      "   % Time:   83s | Batch:  100 | Train bce loss: 0.01308 | Train score: 0.97687\n",
      "   % Time:  164s | Batch:  200 | Train bce loss: 0.01719 | Train score: 0.98166\n",
      "   % Time:  246s | Batch:  300 | Train bce loss: 0.00840 | Train score: 0.98596\n",
      "   % Time:  328s | Batch:  400 | Train bce loss: 0.01008 | Train score: 0.98279\n",
      "   % Time:  409s | Batch:  500 | Train bce loss: 0.01290 | Train score: 0.98234\n",
      "   % Time:  491s | Batch:  600 | Train bce loss: 0.00917 | Train score: 0.98488\n",
      "   % Time:  572s | Batch:  700 | Train bce loss: 0.01189 | Train score: 0.98289\n"
     ]
    }
   ],
   "source": [
    "if args.train:\n",
    "    if args.model_name != '':\n",
    "        load_model(model, args.model_name)\n",
    "    for epoch in range(42):\n",
    "        scheduler.step()\n",
    "        print(\"=> EPOCH {} with lr {}\".format(epoch, scheduler.get_lr()))\n",
    "        init_time = time.time()\n",
    "        train_bce_loss, train_score = train(train_loader, model, optimizer)\n",
    "        val_score = validate(val_loader, model)\n",
    "        print(\"=\"*10)\n",
    "        print(\"   % Time: {:4.0f}s | Epoch: {:4} | Train bce loss: {:.5f} \"\n",
    "              \"| Train score: {:.5f} | Val score: {:.5f}\"\n",
    "              .format(time.time()-init_time, epoch, train_bce_loss,\n",
    "                      train_score, val_score))\n",
    "        print(\"=\"*10)\n",
    "        save_model(model, epoch, val_score)\n",
    "else:\n",
    "    load_model(model, args.model_name)"
   ]
  },
  {
   "cell_type": "code",
   "execution_count": null,
   "metadata": {
    "ExecuteTime": {
     "start_time": "2017-09-25T01:40:19.227Z"
    },
    "collapsed": true
   },
   "outputs": [],
   "source": [
    "if args.test:\n",
    "    test_dataset = CarDataset(args.test_path, transform=[], mode='test')\n",
    "    test_loader = DataLoader(test_dataset, batch_size=args.batch_size)\n",
    "    list_rle = test(test_loader, model)\n",
    "    \n",
    "#    df = pd.DataFrame({\"img\": test_dataset.img_names, \"rle_mask\": list_rle})\n",
    "#    submiss_path = os.path.join(args.intermediate_path, \"submission.csv\")\n",
    "#    df.to_csv(submiss_path, index=False)"
   ]
  }
 ],
 "metadata": {
  "kernelspec": {
   "display_name": "Python (pydata)",
   "language": "python",
   "name": "pydata"
  },
  "language_info": {
   "codemirror_mode": {
    "name": "ipython",
    "version": 3
   },
   "file_extension": ".py",
   "mimetype": "text/x-python",
   "name": "python",
   "nbconvert_exporter": "python",
   "pygments_lexer": "ipython3",
   "version": "3.5.4"
  }
 },
 "nbformat": 4,
 "nbformat_minor": 2
}
