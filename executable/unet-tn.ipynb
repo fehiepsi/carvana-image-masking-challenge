{
 "cells": [
  {
   "cell_type": "markdown",
   "metadata": {
    "deletable": true,
    "editable": true
   },
   "source": [
    "### setup"
   ]
  },
  {
   "cell_type": "code",
   "execution_count": 1,
   "metadata": {
    "ExecuteTime": {
     "end_time": "2017-09-22T04:47:47.537593Z",
     "start_time": "2017-09-22T13:47:47.531884+09:00"
    },
    "collapsed": true,
    "deletable": true,
    "editable": true
   },
   "outputs": [],
   "source": [
    "import argparse\n",
    "import glob\n",
    "import os\n",
    "import pickle\n",
    "import random\n",
    "import shutil\n",
    "import time"
   ]
  },
  {
   "cell_type": "code",
   "execution_count": 2,
   "metadata": {
    "ExecuteTime": {
     "end_time": "2017-09-22T04:47:48.253979Z",
     "start_time": "2017-09-22T13:47:47.539862+09:00"
    },
    "collapsed": true,
    "deletable": true,
    "editable": true
   },
   "outputs": [],
   "source": [
    "import numpy as np\n",
    "import pandas as pd\n",
    "%matplotlib inline\n",
    "import matplotlib.pyplot as plt\n",
    "import cv2"
   ]
  },
  {
   "cell_type": "code",
   "execution_count": 3,
   "metadata": {
    "ExecuteTime": {
     "end_time": "2017-09-22T04:47:48.644068Z",
     "start_time": "2017-09-22T13:47:48.256785+09:00"
    },
    "collapsed": true,
    "deletable": true,
    "editable": true
   },
   "outputs": [],
   "source": [
    "import torch\n",
    "import torch.nn as nn\n",
    "import torch.nn.functional as F\n",
    "from torch.autograd import Variable\n",
    "import torch.optim as optim\n",
    "from torch.optim.lr_scheduler import MultiStepLR\n",
    "from torch.utils.data import DataLoader, Dataset\n",
    "from torch.utils.data.sampler import Sampler\n",
    "import torchvision.transforms as transforms\n",
    "\n",
    "#torch.backends.cudnn.benchmark=True"
   ]
  },
  {
   "cell_type": "code",
   "execution_count": 4,
   "metadata": {
    "ExecuteTime": {
     "end_time": "2017-09-22T04:47:48.707456Z",
     "start_time": "2017-09-22T13:47:48.646655+09:00"
    },
    "collapsed": true,
    "deletable": true,
    "editable": true
   },
   "outputs": [],
   "source": [
    "parser = {\n",
    "    'train_path': '../data/train_hq/',\n",
    "    'train_masks_path': '../data/train_masks/',\n",
    "    'val_path': '../data/val768/',\n",
    "    'val_masks_path': '../data/val768_masks/',\n",
    "    'test_path': '../data/test_hq/',\n",
    "    'output_path': '../intermediate/20170921/output_tn/',\n",
    "    'split_data': False,\n",
    "    'batch_size': 4,\n",
    "    'log_every': 80,\n",
    "    'train': False,\n",
    "    'model_name': 'model_20170921_epoch31_score0.99688.pth',\n",
    "    'test': True,\n",
    "    'seed': 20170921,\n",
    "}\n",
    "args = argparse.Namespace(**parser)\n",
    "\n",
    "torch.manual_seed(args.seed)\n",
    "\n",
    "args.intermediate_path = os.path.join('../intermediate/',\n",
    "                                      str(args.seed), 'tn')\n",
    "if not os.path.isdir(args.intermediate_path):\n",
    "    os.mkdir(args.intermediate_path)"
   ]
  },
  {
   "cell_type": "code",
   "execution_count": 5,
   "metadata": {
    "ExecuteTime": {
     "end_time": "2017-09-22T04:47:48.775720Z",
     "start_time": "2017-09-22T13:47:48.709938+09:00"
    },
    "collapsed": true,
    "deletable": true,
    "editable": true
   },
   "outputs": [],
   "source": [
    "if args.split_data:\n",
    "    # !mogrify -format png *.gif\n",
    "    if not os.path.isdir(args.train_path):\n",
    "        os.mkdir(args.train_path)\n",
    "    if not os.path.isdir(args.train_masks_path):\n",
    "        os.mkdir(args.train_masks_path)\n",
    "    if not os.path.isdir(args.val_path):\n",
    "        os.mkdir(args.val_path)\n",
    "    if not os.path.isdir(args.val_masks_path):\n",
    "        os.mkdir(args.val_masks_path)\n",
    "    files = sorted([x.split('/')[-1]\n",
    "                    for x in glob.glob('../data/train_hq/*.jpg')])\n",
    "    random.seed(args.seed)\n",
    "    random.shuffle(files)\n",
    "    for filename in files[:4320]:\n",
    "        image = cv2.imread('../data/train_hq/' + filename)\n",
    "        image = cv2.resize(image, (1024, 1024))\n",
    "        cv2.imwrite(os.path.join(args.train_path, filename), image)\n",
    "        mask_filename = '../data/train_masks/'+filename.replace('.jpg',\n",
    "                                                                '_mask.png')\n",
    "        shutil.copy2(mask_filename, args.train_masks_path)\n",
    "    for filename in files[4320:]:\n",
    "        image = cv2.imread('../data/train_hq/' + filename)\n",
    "        image = cv2.resize(image, (1024, 1024))\n",
    "        cv2.imwrite(os.path.join(args.val_path, filename), image)\n",
    "        mask_filename = '../data/train_masks/'+filename.replace('.jpg',\n",
    "                                                                '_mask.png')\n",
    "        shutil.copy2(mask_filename, args.val_masks_path)"
   ]
  },
  {
   "cell_type": "markdown",
   "metadata": {
    "deletable": true,
    "editable": true
   },
   "source": [
    "### model"
   ]
  },
  {
   "cell_type": "code",
   "execution_count": 6,
   "metadata": {
    "ExecuteTime": {
     "end_time": "2017-09-22T04:47:48.823389Z",
     "start_time": "2017-09-22T13:47:48.778103+09:00"
    },
    "collapsed": true,
    "deletable": true,
    "editable": true
   },
   "outputs": [],
   "source": [
    "class ConvBnRelu2d(nn.Module):\n",
    "    \n",
    "    def __init__(self, in_channels, out_channels, kernel_size=3, dilation=1):\n",
    "        super(ConvBnRelu2d, self).__init__()\n",
    "        padding = kernel_size//2 * dilation\n",
    "        self.conv = nn.Conv2d(in_channels, out_channels, kernel_size,\n",
    "                              dilation=dilation, padding=padding, bias=False)\n",
    "        self.bn   = nn.BatchNorm2d(out_channels)\n",
    "\n",
    "    def forward(self, x):\n",
    "        o = self.conv(x)\n",
    "        if self.bn is not None:\n",
    "            o = self.bn(o)\n",
    "        return F.relu(o, inplace=True)"
   ]
  },
  {
   "cell_type": "code",
   "execution_count": 7,
   "metadata": {
    "ExecuteTime": {
     "end_time": "2017-09-22T04:47:48.865445Z",
     "start_time": "2017-09-22T13:47:48.825768+09:00"
    },
    "collapsed": true,
    "deletable": true,
    "editable": true
   },
   "outputs": [],
   "source": [
    "class StackEncoder(nn.Module):\n",
    "    \n",
    "    def __init__(self, in_channels, out_channels, kernel_size=3):\n",
    "        super(StackEncoder, self).__init__()\n",
    "        self.encode = nn.Sequential(\n",
    "            ConvBnRelu2d(in_channels, out_channels, kernel_size),\n",
    "            ConvBnRelu2d(out_channels, out_channels, kernel_size))\n",
    "\n",
    "    def forward(self, x):\n",
    "        e = self.encode(x)\n",
    "        o = F.max_pool2d(e, kernel_size=2, stride=2)\n",
    "        return e, o"
   ]
  },
  {
   "cell_type": "code",
   "execution_count": 8,
   "metadata": {
    "ExecuteTime": {
     "end_time": "2017-09-22T04:47:48.914299Z",
     "start_time": "2017-09-22T13:47:48.867863+09:00"
    },
    "collapsed": true,
    "deletable": true,
    "editable": true
   },
   "outputs": [],
   "source": [
    "class StackDecoder(nn.Module):\n",
    "    \n",
    "    def __init__(self, e_channels, in_channels, out_channels, kernel_size=3):\n",
    "        super(StackDecoder, self).__init__()\n",
    "        self.upsample = nn.ConvTranspose2d(in_channels, out_channels, \\\n",
    "                                           kernel_size=2, stride=2)\n",
    "        self.decode = nn.Sequential(\n",
    "            ConvBnRelu2d(e_channels+out_channels, out_channels, kernel_size),\n",
    "#            ConvBnRelu2d(out_channels, out_channels, kernel_size=kernel_size),\n",
    "            ConvBnRelu2d(out_channels, out_channels, kernel_size))\n",
    "\n",
    "    def forward(self, e, x):\n",
    "        N,C,H,W = e.size()\n",
    "        x = self.upsample(x)\n",
    "#        x = F.upsample(x, size=(H,W), mode='bilinear')\n",
    "        x = torch.cat([e, x], dim=1)\n",
    "        return self.decode(x)"
   ]
  },
  {
   "cell_type": "code",
   "execution_count": 9,
   "metadata": {
    "ExecuteTime": {
     "end_time": "2017-09-22T04:47:49.062365Z",
     "start_time": "2017-09-22T13:47:48.916715+09:00"
    },
    "collapsed": true,
    "deletable": true,
    "editable": true
   },
   "outputs": [],
   "source": [
    "class UNet1024(nn.Module):\n",
    "    \n",
    "    def __init__(self, in_shape):\n",
    "        super(UNet1024, self).__init__()\n",
    "        C,H,W = in_shape\n",
    "\n",
    "        # 1024\n",
    "        self.down1 = StackEncoder(  C,  32)  # 512\n",
    "        self.down2 = StackEncoder( 32,  64)  # 256\n",
    "        self.down3 = StackEncoder( 64, 128)  # 128\n",
    "        self.down4 = StackEncoder(128, 256)  # 64\n",
    "        self.down5 = StackEncoder(256, 512)  # 32\n",
    "#        self.down6 = StackEncoder(512, 1024)  # 16\n",
    "\n",
    "        self.center = nn.Sequential(\n",
    "            ConvBnRelu2d(512, 1024),\n",
    "            ConvBnRelu2d(1024, 1024),\n",
    "        )\n",
    "\n",
    "        # 16\n",
    "#        self.up6 = StackDecoder(512, 768, 512)  # 32\n",
    "        self.up5 = StackDecoder(512, 1024, 512)  # 64\n",
    "        self.up4 = StackDecoder(256, 512, 256)  # 128\n",
    "        self.up3 = StackDecoder(128, 256, 128)  # 256\n",
    "        self.up2 = StackDecoder( 64, 128,  64)  # 512\n",
    "        self.up1 = StackDecoder( 32,  64,  32)  # 1024\n",
    "        \n",
    "        self.mask = nn.Conv2d(32, 1, kernel_size=1)\n",
    "\n",
    "    def forward(self, x):\n",
    "        e1, o = self.down1(x)\n",
    "        e2, o = self.down2(o)\n",
    "        e3, o = self.down3(o)\n",
    "        e4, o = self.down4(o)\n",
    "        e5, o = self.down5(o)\n",
    "#        e6, o = self.down6(o)\n",
    "\n",
    "        o = self.center(o)\n",
    "        \n",
    "#        o = self.up6(e6, o)\n",
    "        o = self.up5(e5, o)\n",
    "        o = self.up4(e4, o)\n",
    "        o = self.up3(e3, o)\n",
    "        o = self.up2(e2, o)\n",
    "        o = self.up1(e1, o)\n",
    "\n",
    "        o = self.mask(o)\n",
    "        o = F.upsample(o, size=(1280,1918), mode='bilinear')\n",
    "        return torch.squeeze(o, dim=1)"
   ]
  },
  {
   "cell_type": "markdown",
   "metadata": {
    "deletable": true,
    "editable": true
   },
   "source": [
    "### utils"
   ]
  },
  {
   "cell_type": "code",
   "execution_count": 10,
   "metadata": {
    "ExecuteTime": {
     "end_time": "2017-09-22T04:47:49.175924Z",
     "start_time": "2017-09-22T13:47:49.064810+09:00"
    },
    "collapsed": true,
    "deletable": true,
    "editable": true
   },
   "outputs": [],
   "source": [
    "def dice_score(probs, target, weight=None, use_mask=True, threshold=0.5):\n",
    "    if use_mask:\n",
    "        probs = (probs > threshold).float()\n",
    "    N     = target.size(0)\n",
    "    if weight is None:\n",
    "        w = Variable(torch.ones(target.size()).cuda()).view(N, -1)\n",
    "    else:\n",
    "        w = weight.view(N, -1)\n",
    "    w2    = w*w\n",
    "    m1    = probs.view(N, -1)\n",
    "    m2    = target.view(N, -1)\n",
    "    score = (2*(w2*m1*m2).sum(dim=1) + 1) / ((w2*m1).sum(dim=1)\n",
    "                                             + (w2*m2).sum(dim=1) + 1)\n",
    "    \n",
    "    return score.sum()/N\n",
    "\n",
    "\n",
    "def dice_loss(logits, target, weight=None):\n",
    "    probs = F.sigmoid(logits)\n",
    "    loss  = 1 - dice_score(probs, target, weight, use_mask=False)\n",
    "    \n",
    "    return loss\n",
    "\n",
    "\n",
    "def criterion(logits, target):\n",
    "    N,H,W = target.size()\n",
    "    a = F.avg_pool2d(target, kernel_size=41, stride=1, padding=20)\n",
    "    boundary = (a.ge(0.01) * a.le(0.99)).float()\n",
    "    weight = Variable(torch.ones(a.size()).cuda())\n",
    "    w0 = weight.sum()\n",
    "    weight = weight + 2*boundary\n",
    "    w1 = weight.sum()\n",
    "    weight = weight*w0/w1\n",
    "        \n",
    "    return (F.binary_cross_entropy_with_logits(logits, target, weight),\n",
    "            dice_loss(logits, target, weight))"
   ]
  },
  {
   "cell_type": "code",
   "execution_count": 11,
   "metadata": {
    "ExecuteTime": {
     "end_time": "2017-09-22T04:47:49.233764Z",
     "start_time": "2017-09-22T13:47:49.178178+09:00"
    },
    "collapsed": true,
    "deletable": true,
    "editable": true
   },
   "outputs": [],
   "source": [
    "def image_to_tensor(image):\n",
    "    image = image.transpose((2,0,1)).astype(np.float32)  # HWC -> CHW\n",
    "    tensor = torch.from_numpy(image)\n",
    "    return tensor\n",
    "\n",
    "\n",
    "def label_to_tensor(label, threshold=0.5):\n",
    "    label  = (label>threshold).astype(np.float32)\n",
    "    tensor = torch.from_numpy(label)\n",
    "    return tensor"
   ]
  },
  {
   "cell_type": "code",
   "execution_count": 12,
   "metadata": {
    "ExecuteTime": {
     "end_time": "2017-09-22T04:47:49.386453Z",
     "start_time": "2017-09-22T13:47:49.236231+09:00"
    },
    "collapsed": true,
    "deletable": true,
    "editable": true
   },
   "outputs": [],
   "source": [
    "class CarDataset(Dataset):\n",
    "    def __init__(self, image_path, mask_path='', transform=[], mode='train'):\n",
    "        super(CarDataset, self).__init__()\n",
    "        self.img_names = sorted([x.split('/')[-1]\n",
    "                                 for x in glob.glob(image_path + '/*.jpg')])\n",
    "        self.img_path  = image_path\n",
    "        self.mask_path = mask_path\n",
    "        self.transform = transform\n",
    "        self.mode      = mode\n",
    "\n",
    "    def get_image(self, index):\n",
    "        name  = self.img_names[index]\n",
    "        file  = os.path.join(self.img_path, name)\n",
    "        img   = cv2.imread(file)\n",
    "        return img, name\n",
    "    \n",
    "    def get_label(self, name):\n",
    "        name = name.replace('.jpg', '_mask.png')\n",
    "        file = os.path.join(self.mask_path, name)\n",
    "        mask = cv2.imread(file, cv2.IMREAD_GRAYSCALE)\n",
    "        label = mask / 255\n",
    "        return label\n",
    "\n",
    "    def get_train_item(self, index):\n",
    "        image, name = self.get_image(index)\n",
    "        label = self.get_label(name)\n",
    "        image = image_to_tensor(image/255)\n",
    "        label = label_to_tensor(label)\n",
    "        return image, label\n",
    "\n",
    "    def get_test_item(self, index):\n",
    "        image, _ = self.get_image(index)\n",
    "        image = cv2.resize(image, (1024, 1024))\n",
    "        image = image_to_tensor(image/255)\n",
    "        return image\n",
    "\n",
    "    def __getitem__(self, index):\n",
    "        if self.mode == 'train':\n",
    "            return self.get_train_item(index)\n",
    "        elif self.mode == 'test':\n",
    "            return self.get_test_item(index)\n",
    "\n",
    "    def __len__(self):\n",
    "        return len(self.img_names)"
   ]
  },
  {
   "cell_type": "code",
   "execution_count": 13,
   "metadata": {
    "ExecuteTime": {
     "end_time": "2017-09-22T04:47:49.441781Z",
     "start_time": "2017-09-22T13:47:49.388922+09:00"
    },
    "collapsed": true,
    "deletable": true,
    "editable": true
   },
   "outputs": [],
   "source": [
    "def train(train_loader, model, optimizer):\n",
    "    num_grad_acc = 16 // args.batch_size\n",
    "    model.train()\n",
    "    train_bce_loss = 0\n",
    "    train_score = 0\n",
    "    init_time = time.time()\n",
    "    optimizer.zero_grad()\n",
    "    for i, (inputt, target) in enumerate(train_loader, 1):\n",
    "        inputt = inputt.cuda()\n",
    "        target = target.cuda()\n",
    "        inputt = Variable(inputt)\n",
    "        target = Variable(target)\n",
    "        \n",
    "        output = model(inputt)\n",
    "        bce_loss, dice_loss = criterion(output, target)\n",
    "        loss = bce_loss + dice_loss\n",
    "        loss.backward()\n",
    "        if i % num_grad_acc == 0:\n",
    "            optimizer.step()\n",
    "            optimizer.zero_grad()\n",
    "        train_bce_loss += bce_loss.data[0] * inputt.size(0)\n",
    "        train_score += (1-dice_loss).data[0] * inputt.size(0)\n",
    "        if i % args.log_every == 0:\n",
    "            print(\"   % Time: {:4.0f}s | Batch: {:4} | \"\n",
    "                  \"Train bce loss: {:.5f} | Train score: {:.5f}\"\n",
    "                  .format(time.time()-init_time, i,\n",
    "                          bce_loss.data[0], (1-dice_loss).data[0]))\n",
    "    return (train_bce_loss / len(train_loader.dataset),\n",
    "            train_score / len(train_loader.dataset))"
   ]
  },
  {
   "cell_type": "code",
   "execution_count": 14,
   "metadata": {
    "ExecuteTime": {
     "end_time": "2017-09-22T04:47:49.499744Z",
     "start_time": "2017-09-22T13:47:49.444029+09:00"
    },
    "collapsed": true,
    "deletable": true,
    "editable": true
   },
   "outputs": [],
   "source": [
    "def validate(val_loader, model):\n",
    "    model.eval()\n",
    "    val_score = 0\n",
    "    for i, (inputt, target) in enumerate(val_loader, 1):\n",
    "        inputt = inputt.cuda()\n",
    "        target = target.cuda()\n",
    "        inputt = Variable(inputt, volatile=True)\n",
    "        target = Variable(target)\n",
    "        \n",
    "        output = model(inputt)\n",
    "        score = dice_score(F.sigmoid(output), target)\n",
    "        val_score += score.data[0] * inputt.size(0)\n",
    "    return val_score / len(val_loader.dataset)"
   ]
  },
  {
   "cell_type": "code",
   "execution_count": 15,
   "metadata": {
    "ExecuteTime": {
     "end_time": "2017-09-22T04:47:49.537123Z",
     "start_time": "2017-09-22T13:47:49.502154+09:00"
    },
    "collapsed": true,
    "deletable": true,
    "editable": true
   },
   "outputs": [],
   "source": [
    "def save_model(model, epoch, score):\n",
    "    model_file = os.path.join(args.intermediate_path,\n",
    "                              \"model_{}_epoch{}_score{:.5f}.pth\"\n",
    "                              .format(args.seed, epoch, score))\n",
    "    torch.save(model.state_dict(), model_file)"
   ]
  },
  {
   "cell_type": "code",
   "execution_count": 16,
   "metadata": {
    "ExecuteTime": {
     "end_time": "2017-09-22T04:47:49.579002Z",
     "start_time": "2017-09-22T13:47:49.539379+09:00"
    },
    "collapsed": true,
    "deletable": true,
    "editable": true
   },
   "outputs": [],
   "source": [
    "def load_model(model, model_name):\n",
    "    model_path = os.path.join(args.intermediate_path, model_name)\n",
    "    assert os.path.isfile(model_path), 'Error: no model found!'\n",
    "    model_state = torch.load(model_path)\n",
    "    model.load_state_dict(model_state)"
   ]
  },
  {
   "cell_type": "code",
   "execution_count": 17,
   "metadata": {
    "ExecuteTime": {
     "end_time": "2017-09-22T04:47:49.638790Z",
     "start_time": "2017-09-22T13:47:49.581383+09:00"
    },
    "collapsed": true,
    "deletable": true,
    "editable": true
   },
   "outputs": [],
   "source": [
    "def rle_encode(mask_image):\n",
    "    pixels = mask_image.flatten()\n",
    "    # We avoid issues with '1' at the start or end (at the corners of \n",
    "    # the original image) by setting those pixels to '0' explicitly.\n",
    "    # We do not expect these to be non-zero for an accurate mask, \n",
    "    # so this should not harm the score.\n",
    "    pixels[0] = 0\n",
    "    pixels[-1] = 0\n",
    "    runs = np.where(pixels[1:] != pixels[:-1])[0] + 2\n",
    "    runs[1::2] = runs[1::2] - runs[:-1:2]\n",
    "    return runs"
   ]
  },
  {
   "cell_type": "code",
   "execution_count": 18,
   "metadata": {
    "ExecuteTime": {
     "end_time": "2017-09-22T04:47:49.682478Z",
     "start_time": "2017-09-22T13:47:49.641041+09:00"
    },
    "collapsed": false,
    "deletable": true,
    "editable": true
   },
   "outputs": [],
   "source": [
    "def test(test_loader, model, threshold=0.5):\n",
    "    model.eval()\n",
    "    init_time = time.time()\n",
    "    list_rle = []\n",
    "    c = 0\n",
    "    for i, imgs in enumerate(test_loader, 1):\n",
    "        imgs = imgs.cuda()\n",
    "        imgs = Variable(imgs, volatile=True)\n",
    "        outputs = F.sigmoid(model(imgs)) * 255\n",
    "        for j in range(outputs.size(0)):\n",
    "            c += 1\n",
    "            image = outputs[j, :, :].data.cpu().numpy()\n",
    "            cv2.imwrite(os.path.join(args.output_path, str(c)+'.jpg'), image)\n",
    "#        outputs = outputs > threshold\n",
    "#        for j in range(outputs.size(0)):\n",
    "#            rle = rle_encode(outputs[j, :, :].data.cpu().numpy())\n",
    "#            list_rle.append(' '.join(str(x) for x in rle))\n",
    "            \n",
    "        if i % args.log_every == 0:\n",
    "            print(\"   % Time: {:4.0f}s | Image: {:6d} / {}\"\n",
    "                  .format(time.time()-init_time, i*args.batch_size,\n",
    "                          len(test_loader.dataset)))\n",
    "    return list_rle"
   ]
  },
  {
   "cell_type": "markdown",
   "metadata": {
    "deletable": true,
    "editable": true
   },
   "source": [
    "### prepare"
   ]
  },
  {
   "cell_type": "code",
   "execution_count": 19,
   "metadata": {
    "ExecuteTime": {
     "end_time": "2017-09-22T04:47:49.723131Z",
     "start_time": "2017-09-22T13:47:49.684686+09:00"
    },
    "collapsed": true,
    "deletable": true,
    "editable": true
   },
   "outputs": [],
   "source": [
    "train_dataset = CarDataset(args.train_path, args.train_masks_path,\n",
    "                           transform=[], mode='train')\n",
    "train_loader  = DataLoader(train_dataset, args.batch_size, shuffle=True,\n",
    "                           num_workers=7)"
   ]
  },
  {
   "cell_type": "code",
   "execution_count": 20,
   "metadata": {
    "ExecuteTime": {
     "end_time": "2017-09-22T04:47:49.758966Z",
     "start_time": "2017-09-22T13:47:49.725466+09:00"
    },
    "collapsed": true,
    "deletable": true,
    "editable": true
   },
   "outputs": [],
   "source": [
    "val_dataset = CarDataset(args.val_path, args.val_masks_path,\n",
    "                         transform=[], mode='train')\n",
    "val_loader  = DataLoader(val_dataset, args.batch_size, num_workers=7)"
   ]
  },
  {
   "cell_type": "code",
   "execution_count": 21,
   "metadata": {
    "ExecuteTime": {
     "end_time": "2017-09-22T04:47:52.549954Z",
     "start_time": "2017-09-22T13:47:49.761461+09:00"
    },
    "collapsed": true,
    "deletable": true,
    "editable": true
   },
   "outputs": [],
   "source": [
    "model = UNet1024((3, 1024, 1024))\n",
    "model.cuda()\n",
    "\n",
    "#optimizer = optim.SGD(model.parameters(), lr=0.001, momentum=0.9,\n",
    "#                      weight_decay=0.0005)\n",
    "optimizer = optim.Adam(model.parameters(), lr=0.0001)\n",
    "scheduler = MultiStepLR(optimizer, milestones=[30])"
   ]
  },
  {
   "cell_type": "markdown",
   "metadata": {
    "deletable": true,
    "editable": true
   },
   "source": [
    "### train"
   ]
  },
  {
   "cell_type": "code",
   "execution_count": null,
   "metadata": {
    "ExecuteTime": {
     "start_time": "2017-09-22T04:47:49.047Z"
    },
    "collapsed": false,
    "deletable": true,
    "editable": true,
    "scrolled": false
   },
   "outputs": [],
   "source": [
    "if args.train:\n",
    "    for epoch in range(1, 32):\n",
    "        scheduler.step()\n",
    "        print(\"=> EPOCH {} with lr {}\".format(epoch, scheduler.get_lr()))\n",
    "        init_time = time.time()\n",
    "        train_bce_loss, train_score = train(train_loader, model, optimizer)\n",
    "        val_score = validate(val_loader, model)\n",
    "        print(\"=\"*10)\n",
    "        print(\"   % Time: {:4.0f}s | Epoch: {:4} | Train bce loss: {:.5f} \"\n",
    "              \"| Train score: {:.5f} | Val score: {:.5f}\"\n",
    "              .format(time.time()-init_time, epoch, train_bce_loss,\n",
    "                      train_score, val_score))\n",
    "        print(\"=\"*10)\n",
    "        save_model(model, epoch, val_score)\n",
    "else:\n",
    "    load_model(model, args.model_name)"
   ]
  },
  {
   "cell_type": "markdown",
   "metadata": {
    "deletable": true,
    "editable": true
   },
   "source": [
    "### test"
   ]
  },
  {
   "cell_type": "code",
   "execution_count": null,
   "metadata": {
    "ExecuteTime": {
     "start_time": "2017-09-22T04:47:49.052Z"
    },
    "collapsed": false,
    "deletable": true,
    "editable": true,
    "scrolled": false
   },
   "outputs": [
    {
     "name": "stdout",
     "output_type": "stream",
     "text": [
      "   % Time:   86s | Image:    320 / 100064\n",
      "   % Time:  171s | Image:    640 / 100064\n",
      "   % Time:  257s | Image:    960 / 100064\n",
      "   % Time:  342s | Image:   1280 / 100064\n",
      "   % Time:  428s | Image:   1600 / 100064\n",
      "   % Time:  513s | Image:   1920 / 100064\n",
      "   % Time:  610s | Image:   2240 / 100064\n",
      "   % Time:  708s | Image:   2560 / 100064\n",
      "   % Time:  806s | Image:   2880 / 100064\n",
      "   % Time:  904s | Image:   3200 / 100064\n",
      "   % Time: 1002s | Image:   3520 / 100064\n",
      "   % Time: 1100s | Image:   3840 / 100064\n",
      "   % Time: 1198s | Image:   4160 / 100064\n",
      "   % Time: 1296s | Image:   4480 / 100064\n",
      "   % Time: 1394s | Image:   4800 / 100064\n",
      "   % Time: 1491s | Image:   5120 / 100064\n",
      "   % Time: 1588s | Image:   5440 / 100064\n",
      "   % Time: 1685s | Image:   5760 / 100064\n",
      "   % Time: 1784s | Image:   6080 / 100064\n",
      "   % Time: 1881s | Image:   6400 / 100064\n",
      "   % Time: 1978s | Image:   6720 / 100064\n",
      "   % Time: 2076s | Image:   7040 / 100064\n",
      "   % Time: 2174s | Image:   7360 / 100064\n",
      "   % Time: 2272s | Image:   7680 / 100064\n",
      "   % Time: 2370s | Image:   8000 / 100064\n",
      "   % Time: 2468s | Image:   8320 / 100064\n",
      "   % Time: 2566s | Image:   8640 / 100064\n",
      "   % Time: 2664s | Image:   8960 / 100064\n",
      "   % Time: 2764s | Image:   9280 / 100064\n",
      "   % Time: 2862s | Image:   9600 / 100064\n",
      "   % Time: 2960s | Image:   9920 / 100064\n",
      "   % Time: 3058s | Image:  10240 / 100064\n",
      "   % Time: 3155s | Image:  10560 / 100064\n",
      "   % Time: 3253s | Image:  10880 / 100064\n",
      "   % Time: 3351s | Image:  11200 / 100064\n",
      "   % Time: 3449s | Image:  11520 / 100064\n",
      "   % Time: 3547s | Image:  11840 / 100064\n",
      "   % Time: 3645s | Image:  12160 / 100064\n",
      "   % Time: 3743s | Image:  12480 / 100064\n",
      "   % Time: 3840s | Image:  12800 / 100064\n",
      "   % Time: 3936s | Image:  13120 / 100064\n",
      "   % Time: 4033s | Image:  13440 / 100064\n",
      "   % Time: 4131s | Image:  13760 / 100064\n",
      "   % Time: 4229s | Image:  14080 / 100064\n",
      "   % Time: 4326s | Image:  14400 / 100064\n",
      "   % Time: 4424s | Image:  14720 / 100064\n",
      "   % Time: 4521s | Image:  15040 / 100064\n",
      "   % Time: 4618s | Image:  15360 / 100064\n",
      "   % Time: 4715s | Image:  15680 / 100064\n",
      "   % Time: 4813s | Image:  16000 / 100064\n",
      "   % Time: 4911s | Image:  16320 / 100064\n",
      "   % Time: 5008s | Image:  16640 / 100064\n",
      "   % Time: 5106s | Image:  16960 / 100064\n",
      "   % Time: 5202s | Image:  17280 / 100064\n",
      "   % Time: 5299s | Image:  17600 / 100064\n",
      "   % Time: 5397s | Image:  17920 / 100064\n",
      "   % Time: 5495s | Image:  18240 / 100064\n",
      "   % Time: 5592s | Image:  18560 / 100064\n",
      "   % Time: 5689s | Image:  18880 / 100064\n",
      "   % Time: 5787s | Image:  19200 / 100064\n",
      "   % Time: 5884s | Image:  19520 / 100064\n",
      "   % Time: 5981s | Image:  19840 / 100064\n",
      "   % Time: 6078s | Image:  20160 / 100064\n",
      "   % Time: 6176s | Image:  20480 / 100064\n",
      "   % Time: 6273s | Image:  20800 / 100064\n",
      "   % Time: 6370s | Image:  21120 / 100064\n",
      "   % Time: 6467s | Image:  21440 / 100064\n",
      "   % Time: 6563s | Image:  21760 / 100064\n",
      "   % Time: 6661s | Image:  22080 / 100064\n",
      "   % Time: 6758s | Image:  22400 / 100064\n",
      "   % Time: 6855s | Image:  22720 / 100064\n",
      "   % Time: 6953s | Image:  23040 / 100064\n",
      "   % Time: 7050s | Image:  23360 / 100064\n",
      "   % Time: 7148s | Image:  23680 / 100064\n",
      "   % Time: 7246s | Image:  24000 / 100064\n",
      "   % Time: 7343s | Image:  24320 / 100064\n",
      "   % Time: 7441s | Image:  24640 / 100064\n",
      "   % Time: 7538s | Image:  24960 / 100064\n",
      "   % Time: 7635s | Image:  25280 / 100064\n",
      "   % Time: 7733s | Image:  25600 / 100064\n",
      "   % Time: 7830s | Image:  25920 / 100064\n",
      "   % Time: 7927s | Image:  26240 / 100064\n",
      "   % Time: 8024s | Image:  26560 / 100064\n",
      "   % Time: 8121s | Image:  26880 / 100064\n",
      "   % Time: 8218s | Image:  27200 / 100064\n",
      "   % Time: 8314s | Image:  27520 / 100064\n",
      "   % Time: 8412s | Image:  27840 / 100064\n",
      "   % Time: 8509s | Image:  28160 / 100064\n",
      "   % Time: 8606s | Image:  28480 / 100064\n",
      "   % Time: 8704s | Image:  28800 / 100064\n",
      "   % Time: 8802s | Image:  29120 / 100064\n",
      "   % Time: 8899s | Image:  29440 / 100064\n",
      "   % Time: 8997s | Image:  29760 / 100064\n",
      "   % Time: 9094s | Image:  30080 / 100064\n",
      "   % Time: 9191s | Image:  30400 / 100064\n",
      "   % Time: 9288s | Image:  30720 / 100064\n",
      "   % Time: 9384s | Image:  31040 / 100064\n",
      "   % Time: 9482s | Image:  31360 / 100064\n",
      "   % Time: 9578s | Image:  31680 / 100064\n",
      "   % Time: 9676s | Image:  32000 / 100064\n",
      "   % Time: 9773s | Image:  32320 / 100064\n",
      "   % Time: 9870s | Image:  32640 / 100064\n",
      "   % Time: 9968s | Image:  32960 / 100064\n",
      "   % Time: 10065s | Image:  33280 / 100064\n",
      "   % Time: 10162s | Image:  33600 / 100064\n",
      "   % Time: 10259s | Image:  33920 / 100064\n",
      "   % Time: 10357s | Image:  34240 / 100064\n",
      "   % Time: 10455s | Image:  34560 / 100064\n",
      "   % Time: 10552s | Image:  34880 / 100064\n",
      "   % Time: 10649s | Image:  35200 / 100064\n",
      "   % Time: 10746s | Image:  35520 / 100064\n",
      "   % Time: 10844s | Image:  35840 / 100064\n",
      "   % Time: 10941s | Image:  36160 / 100064\n",
      "   % Time: 11039s | Image:  36480 / 100064\n",
      "   % Time: 11136s | Image:  36800 / 100064\n",
      "   % Time: 11234s | Image:  37120 / 100064\n",
      "   % Time: 11332s | Image:  37440 / 100064\n",
      "   % Time: 11429s | Image:  37760 / 100064\n",
      "   % Time: 11526s | Image:  38080 / 100064\n",
      "   % Time: 11624s | Image:  38400 / 100064\n",
      "   % Time: 11721s | Image:  38720 / 100064\n",
      "   % Time: 11818s | Image:  39040 / 100064\n",
      "   % Time: 11914s | Image:  39360 / 100064\n",
      "   % Time: 12012s | Image:  39680 / 100064\n",
      "   % Time: 12109s | Image:  40000 / 100064\n",
      "   % Time: 12207s | Image:  40320 / 100064\n",
      "   % Time: 12304s | Image:  40640 / 100064\n",
      "   % Time: 12400s | Image:  40960 / 100064\n",
      "   % Time: 12498s | Image:  41280 / 100064\n",
      "   % Time: 12596s | Image:  41600 / 100064\n",
      "   % Time: 12693s | Image:  41920 / 100064\n",
      "   % Time: 12790s | Image:  42240 / 100064\n",
      "   % Time: 12887s | Image:  42560 / 100064\n",
      "   % Time: 12986s | Image:  42880 / 100064\n",
      "   % Time: 13083s | Image:  43200 / 100064\n",
      "   % Time: 13179s | Image:  43520 / 100064\n",
      "   % Time: 13276s | Image:  43840 / 100064\n",
      "   % Time: 13374s | Image:  44160 / 100064\n",
      "   % Time: 13471s | Image:  44480 / 100064\n",
      "   % Time: 13568s | Image:  44800 / 100064\n",
      "   % Time: 13666s | Image:  45120 / 100064\n",
      "   % Time: 13763s | Image:  45440 / 100064\n",
      "   % Time: 13861s | Image:  45760 / 100064\n",
      "   % Time: 13959s | Image:  46080 / 100064\n",
      "   % Time: 14056s | Image:  46400 / 100064\n",
      "   % Time: 14153s | Image:  46720 / 100064\n",
      "   % Time: 14251s | Image:  47040 / 100064\n",
      "   % Time: 14348s | Image:  47360 / 100064\n",
      "   % Time: 14445s | Image:  47680 / 100064\n",
      "   % Time: 14542s | Image:  48000 / 100064\n",
      "   % Time: 14639s | Image:  48320 / 100064\n",
      "   % Time: 14737s | Image:  48640 / 100064\n",
      "   % Time: 14834s | Image:  48960 / 100064\n",
      "   % Time: 14933s | Image:  49280 / 100064\n",
      "   % Time: 15030s | Image:  49600 / 100064\n",
      "   % Time: 15128s | Image:  49920 / 100064\n",
      "   % Time: 15225s | Image:  50240 / 100064\n",
      "   % Time: 15322s | Image:  50560 / 100064\n",
      "   % Time: 15420s | Image:  50880 / 100064\n",
      "   % Time: 15517s | Image:  51200 / 100064\n",
      "   % Time: 15614s | Image:  51520 / 100064\n",
      "   % Time: 15712s | Image:  51840 / 100064\n",
      "   % Time: 15808s | Image:  52160 / 100064\n",
      "   % Time: 15906s | Image:  52480 / 100064\n",
      "   % Time: 16003s | Image:  52800 / 100064\n",
      "   % Time: 16100s | Image:  53120 / 100064\n",
      "   % Time: 16197s | Image:  53440 / 100064\n",
      "   % Time: 16294s | Image:  53760 / 100064\n",
      "   % Time: 16391s | Image:  54080 / 100064\n",
      "   % Time: 16488s | Image:  54400 / 100064\n",
      "   % Time: 16586s | Image:  54720 / 100064\n",
      "   % Time: 16684s | Image:  55040 / 100064\n",
      "   % Time: 16781s | Image:  55360 / 100064\n",
      "   % Time: 16879s | Image:  55680 / 100064\n",
      "   % Time: 16976s | Image:  56000 / 100064\n",
      "   % Time: 17072s | Image:  56320 / 100064\n",
      "   % Time: 17169s | Image:  56640 / 100064\n",
      "   % Time: 17267s | Image:  56960 / 100064\n",
      "   % Time: 17365s | Image:  57280 / 100064\n",
      "   % Time: 17462s | Image:  57600 / 100064\n",
      "   % Time: 17559s | Image:  57920 / 100064\n",
      "   % Time: 17656s | Image:  58240 / 100064\n",
      "   % Time: 17753s | Image:  58560 / 100064\n",
      "   % Time: 17851s | Image:  58880 / 100064\n",
      "   % Time: 17948s | Image:  59200 / 100064\n",
      "   % Time: 18045s | Image:  59520 / 100064\n",
      "   % Time: 18143s | Image:  59840 / 100064\n",
      "   % Time: 18239s | Image:  60160 / 100064\n",
      "   % Time: 18336s | Image:  60480 / 100064\n",
      "   % Time: 18434s | Image:  60800 / 100064\n",
      "   % Time: 18531s | Image:  61120 / 100064\n",
      "   % Time: 18630s | Image:  61440 / 100064\n",
      "   % Time: 18727s | Image:  61760 / 100064\n",
      "   % Time: 18825s | Image:  62080 / 100064\n",
      "   % Time: 18924s | Image:  62400 / 100064\n",
      "   % Time: 19021s | Image:  62720 / 100064\n",
      "   % Time: 19119s | Image:  63040 / 100064\n",
      "   % Time: 19216s | Image:  63360 / 100064\n",
      "   % Time: 19313s | Image:  63680 / 100064\n",
      "   % Time: 19411s | Image:  64000 / 100064\n",
      "   % Time: 19508s | Image:  64320 / 100064\n",
      "   % Time: 19606s | Image:  64640 / 100064\n",
      "   % Time: 19704s | Image:  64960 / 100064\n",
      "   % Time: 19800s | Image:  65280 / 100064\n",
      "   % Time: 19897s | Image:  65600 / 100064\n",
      "   % Time: 19995s | Image:  65920 / 100064\n",
      "   % Time: 20093s | Image:  66240 / 100064\n",
      "   % Time: 20190s | Image:  66560 / 100064\n",
      "   % Time: 20287s | Image:  66880 / 100064\n",
      "   % Time: 20384s | Image:  67200 / 100064\n",
      "   % Time: 20483s | Image:  67520 / 100064\n",
      "   % Time: 20581s | Image:  67840 / 100064\n",
      "   % Time: 20678s | Image:  68160 / 100064\n",
      "   % Time: 20776s | Image:  68480 / 100064\n",
      "   % Time: 20874s | Image:  68800 / 100064\n",
      "   % Time: 20971s | Image:  69120 / 100064\n",
      "   % Time: 21069s | Image:  69440 / 100064\n",
      "   % Time: 21166s | Image:  69760 / 100064\n",
      "   % Time: 21264s | Image:  70080 / 100064\n",
      "   % Time: 21362s | Image:  70400 / 100064\n",
      "   % Time: 21459s | Image:  70720 / 100064\n",
      "   % Time: 21556s | Image:  71040 / 100064\n",
      "   % Time: 21654s | Image:  71360 / 100064\n",
      "   % Time: 21751s | Image:  71680 / 100064\n",
      "   % Time: 21848s | Image:  72000 / 100064\n",
      "   % Time: 21946s | Image:  72320 / 100064\n",
      "   % Time: 22044s | Image:  72640 / 100064\n",
      "   % Time: 22141s | Image:  72960 / 100064\n",
      "   % Time: 22238s | Image:  73280 / 100064\n",
      "   % Time: 22336s | Image:  73600 / 100064\n",
      "   % Time: 22433s | Image:  73920 / 100064\n",
      "   % Time: 22530s | Image:  74240 / 100064\n",
      "   % Time: 22628s | Image:  74560 / 100064\n",
      "   % Time: 22724s | Image:  74880 / 100064\n",
      "   % Time: 22822s | Image:  75200 / 100064\n",
      "   % Time: 22919s | Image:  75520 / 100064\n",
      "   % Time: 23017s | Image:  75840 / 100064\n",
      "   % Time: 23113s | Image:  76160 / 100064\n",
      "   % Time: 23210s | Image:  76480 / 100064\n",
      "   % Time: 23307s | Image:  76800 / 100064\n",
      "   % Time: 23404s | Image:  77120 / 100064\n",
      "   % Time: 23503s | Image:  77440 / 100064\n",
      "   % Time: 23600s | Image:  77760 / 100064\n",
      "   % Time: 23697s | Image:  78080 / 100064\n",
      "   % Time: 23795s | Image:  78400 / 100064\n",
      "   % Time: 23892s | Image:  78720 / 100064\n",
      "   % Time: 23990s | Image:  79040 / 100064\n",
      "   % Time: 24088s | Image:  79360 / 100064\n",
      "   % Time: 24184s | Image:  79680 / 100064\n",
      "   % Time: 24281s | Image:  80000 / 100064\n",
      "   % Time: 24379s | Image:  80320 / 100064\n",
      "   % Time: 24476s | Image:  80640 / 100064\n",
      "   % Time: 24574s | Image:  80960 / 100064\n",
      "   % Time: 24671s | Image:  81280 / 100064\n",
      "   % Time: 24769s | Image:  81600 / 100064\n",
      "   % Time: 24866s | Image:  81920 / 100064\n",
      "   % Time: 24964s | Image:  82240 / 100064\n",
      "   % Time: 25060s | Image:  82560 / 100064\n",
      "   % Time: 25159s | Image:  82880 / 100064\n",
      "   % Time: 25255s | Image:  83200 / 100064\n",
      "   % Time: 25353s | Image:  83520 / 100064\n",
      "   % Time: 25451s | Image:  83840 / 100064\n",
      "   % Time: 25548s | Image:  84160 / 100064\n",
      "   % Time: 25646s | Image:  84480 / 100064\n",
      "   % Time: 25744s | Image:  84800 / 100064\n",
      "   % Time: 25841s | Image:  85120 / 100064\n",
      "   % Time: 25939s | Image:  85440 / 100064\n",
      "   % Time: 26037s | Image:  85760 / 100064\n",
      "   % Time: 26134s | Image:  86080 / 100064\n",
      "   % Time: 26232s | Image:  86400 / 100064\n",
      "   % Time: 26329s | Image:  86720 / 100064\n",
      "   % Time: 26428s | Image:  87040 / 100064\n",
      "   % Time: 26525s | Image:  87360 / 100064\n",
      "   % Time: 26622s | Image:  87680 / 100064\n"
     ]
    }
   ],
   "source": [
    "if args.test:\n",
    "    test_dataset = CarDataset(args.test_path, transform=[], mode='test')\n",
    "    test_loader = DataLoader(test_dataset, batch_size=args.batch_size)\n",
    "    list_rle = test(test_loader, model)\n",
    "    \n",
    "#    df = pd.DataFrame({\"img\": test_dataset.img_names, \"rle_mask\": list_rle})\n",
    "#    submiss_path = os.path.join(args.intermediate_path, \"submission.csv\")\n",
    "#    df.to_csv(submiss_path, index=False)"
   ]
  }
 ],
 "metadata": {
  "kernelspec": {
   "display_name": "Python [conda env:pydata]",
   "language": "python",
   "name": "conda-env-pydata-py"
  },
  "language_info": {
   "codemirror_mode": {
    "name": "ipython",
    "version": 3
   },
   "file_extension": ".py",
   "mimetype": "text/x-python",
   "name": "python",
   "nbconvert_exporter": "python",
   "pygments_lexer": "ipython3",
   "version": "3.5.4"
  }
 },
 "nbformat": 4,
 "nbformat_minor": 2
}
