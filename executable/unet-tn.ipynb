{
 "cells": [
  {
   "cell_type": "markdown",
   "metadata": {},
   "source": [
    "### setup"
   ]
  },
  {
   "cell_type": "code",
   "execution_count": 1,
   "metadata": {
    "ExecuteTime": {
     "end_time": "2017-09-25T13:57:10.015479Z",
     "start_time": "2017-09-25T13:57:10.009317Z"
    },
    "collapsed": true
   },
   "outputs": [],
   "source": [
    "import argparse\n",
    "import glob\n",
    "import os\n",
    "import pickle\n",
    "import random\n",
    "import shutil\n",
    "import time"
   ]
  },
  {
   "cell_type": "code",
   "execution_count": 2,
   "metadata": {
    "ExecuteTime": {
     "end_time": "2017-09-25T13:57:10.756400Z",
     "start_time": "2017-09-25T13:57:10.435366Z"
    },
    "collapsed": true
   },
   "outputs": [],
   "source": [
    "import numpy as np\n",
    "import pandas as pd\n",
    "%matplotlib inline\n",
    "import matplotlib.pyplot as plt\n",
    "import cv2"
   ]
  },
  {
   "cell_type": "code",
   "execution_count": 3,
   "metadata": {
    "ExecuteTime": {
     "end_time": "2017-09-25T13:57:11.495749Z",
     "start_time": "2017-09-25T13:57:10.810525Z"
    },
    "collapsed": true
   },
   "outputs": [],
   "source": [
    "import torch\n",
    "import torch.nn as nn\n",
    "import torch.nn.functional as F\n",
    "from torch.autograd import Variable\n",
    "import torch.optim as optim\n",
    "from torch.optim.lr_scheduler import MultiStepLR\n",
    "from torch.utils.data import DataLoader, Dataset\n",
    "from torch.utils.data.sampler import Sampler\n",
    "import torchvision.transforms as transforms\n",
    "\n",
    "#torch.backends.cudnn.benchmark=True"
   ]
  },
  {
   "cell_type": "code",
   "execution_count": 24,
   "metadata": {
    "ExecuteTime": {
     "end_time": "2017-09-25T13:59:21.181997Z",
     "start_time": "2017-09-25T13:59:21.171556Z"
    },
    "collapsed": true
   },
   "outputs": [],
   "source": [
    "parser = {\n",
    "    'train_path': '../data/train4320/',\n",
    "    'train_masks_path': '../data/train4320_masks/',\n",
    "    'val_path': '../data/val768/',\n",
    "    'val_masks_path': '../data/val768_masks/',\n",
    "    'test_path': '../data/test_hq/',\n",
    "    'output_path': '../intermediate/20170921/output_tn/',\n",
    "    'split_data': False,\n",
    "    'batch_size': 3,\n",
    "    'log_every': 100,\n",
    "    'train': False,\n",
    "    'model_name': 'model_20170921_epoch26_score0.99684.pth',\n",
    "    'test': False,\n",
    "    'seed': 20170921,\n",
    "}\n",
    "args = argparse.Namespace(**parser)\n",
    "\n",
    "torch.manual_seed(args.seed)\n",
    "\n",
    "args.intermediate_path = os.path.join('../intermediate/',\n",
    "#                                      str(args.seed), 'tn')\n",
    "                                      'output')\n",
    "if not os.path.isdir(args.intermediate_path):\n",
    "    os.mkdir(args.intermediate_path)"
   ]
  },
  {
   "cell_type": "code",
   "execution_count": 5,
   "metadata": {
    "ExecuteTime": {
     "end_time": "2017-09-25T13:57:11.621060Z",
     "start_time": "2017-09-25T13:57:11.564996Z"
    },
    "collapsed": true
   },
   "outputs": [],
   "source": [
    "if args.split_data:\n",
    "    # !mogrify -format png *.gif\n",
    "    if not os.path.isdir(args.train_path):\n",
    "        os.mkdir(args.train_path)\n",
    "    if not os.path.isdir(args.train_masks_path):\n",
    "        os.mkdir(args.train_masks_path)\n",
    "    if not os.path.isdir(args.val_path):\n",
    "        os.mkdir(args.val_path)\n",
    "    if not os.path.isdir(args.val_masks_path):\n",
    "        os.mkdir(args.val_masks_path)\n",
    "    files = sorted([x.split('/')[-1]\n",
    "                    for x in glob.glob('../data/train_hq/*.jpg')])\n",
    "    random.seed(args.seed)\n",
    "    random.shuffle(files)\n",
    "    for filename in files[:4320]:\n",
    "        image = cv2.imread('../data/train_hq/' + filename)\n",
    "        image = cv2.resize(image, (1024, 1024))\n",
    "        cv2.imwrite(os.path.join(args.train_path, filename), image)\n",
    "        mask_filename = '../data/train_masks/'+filename.replace('.jpg',\n",
    "                                                                '_mask.png')\n",
    "        shutil.copy2(mask_filename, args.train_masks_path)\n",
    "    for filename in files[4320:]:\n",
    "        image = cv2.imread('../data/train_hq/' + filename)\n",
    "        image = cv2.resize(image, (1024, 1024))\n",
    "        cv2.imwrite(os.path.join(args.val_path, filename), image)\n",
    "        mask_filename = '../data/train_masks/'+filename.replace('.jpg',\n",
    "                                                                '_mask.png')\n",
    "        shutil.copy2(mask_filename, args.val_masks_path)"
   ]
  },
  {
   "cell_type": "markdown",
   "metadata": {},
   "source": [
    "### model"
   ]
  },
  {
   "cell_type": "code",
   "execution_count": 6,
   "metadata": {
    "ExecuteTime": {
     "end_time": "2017-09-25T13:57:12.325184Z",
     "start_time": "2017-09-25T13:57:12.313630Z"
    },
    "collapsed": true
   },
   "outputs": [],
   "source": [
    "class ConvBnRelu2d(nn.Module):\n",
    "    \n",
    "    def __init__(self, in_channels, out_channels, kernel_size=3, dilation=1):\n",
    "        super(ConvBnRelu2d, self).__init__()\n",
    "        padding = kernel_size//2 * dilation\n",
    "        self.conv = nn.Conv2d(in_channels, out_channels, kernel_size,\n",
    "                              dilation=dilation, padding=padding, bias=False)\n",
    "        self.bn   = nn.BatchNorm2d(out_channels, eps=1e-4)\n",
    "\n",
    "    def forward(self, x):\n",
    "        o = self.conv(x)\n",
    "        if self.bn is not None:\n",
    "            o = self.bn(o)\n",
    "        return F.relu(o, inplace=True)"
   ]
  },
  {
   "cell_type": "code",
   "execution_count": 7,
   "metadata": {
    "ExecuteTime": {
     "end_time": "2017-09-25T13:57:12.613561Z",
     "start_time": "2017-09-25T13:57:12.597629Z"
    },
    "collapsed": true
   },
   "outputs": [],
   "source": [
    "class StackEncoder(nn.Module):\n",
    "    \n",
    "    def __init__(self, in_channels, out_channels, kernel_size=3):\n",
    "        super(StackEncoder, self).__init__()\n",
    "        self.encode = nn.Sequential(\n",
    "            ConvBnRelu2d(in_channels, out_channels, kernel_size),\n",
    "            ConvBnRelu2d(out_channels, out_channels, kernel_size))\n",
    "\n",
    "    def forward(self, x):\n",
    "        e = self.encode(x)\n",
    "        o = F.max_pool2d(e, kernel_size=2, stride=2)\n",
    "        return e, o"
   ]
  },
  {
   "cell_type": "code",
   "execution_count": 8,
   "metadata": {
    "ExecuteTime": {
     "end_time": "2017-09-25T13:57:12.841313Z",
     "start_time": "2017-09-25T13:57:12.829004Z"
    },
    "collapsed": true
   },
   "outputs": [],
   "source": [
    "class StackDecoder(nn.Module):\n",
    "    \n",
    "    def __init__(self, e_channels, in_channels, out_channels, kernel_size=3):\n",
    "        super(StackDecoder, self).__init__()\n",
    "        self.upsample = nn.ConvTranspose2d(in_channels, out_channels, \\\n",
    "                                           kernel_size=2, stride=2)\n",
    "        self.decode = nn.Sequential(\n",
    "            ConvBnRelu2d(e_channels+out_channels, out_channels, kernel_size),\n",
    "#            ConvBnRelu2d(out_channels, out_channels, kernel_size=kernel_size),\n",
    "            ConvBnRelu2d(out_channels, out_channels, kernel_size))\n",
    "\n",
    "    def forward(self, e, x):\n",
    "        N,C,H,W = e.size()\n",
    "        x = self.upsample(x)\n",
    "#        x = F.upsample(x, size=(H,W), mode='bilinear')\n",
    "        x = torch.cat([e, x], dim=1)\n",
    "        return self.decode(x)"
   ]
  },
  {
   "cell_type": "code",
   "execution_count": 9,
   "metadata": {
    "ExecuteTime": {
     "end_time": "2017-09-25T13:57:13.395984Z",
     "start_time": "2017-09-25T13:57:13.339603Z"
    },
    "collapsed": true
   },
   "outputs": [],
   "source": [
    "class UNet1024(nn.Module):\n",
    "    \n",
    "    def __init__(self, in_shape):\n",
    "        super(UNet1024, self).__init__()\n",
    "        C,H,W = in_shape\n",
    "\n",
    "        # 1024\n",
    "        self.down1 = StackEncoder(  C,  32)  # 512\n",
    "        self.down2 = StackEncoder( 32,  64)  # 256\n",
    "        self.down3 = StackEncoder( 64, 128)  # 128\n",
    "        self.down4 = StackEncoder(128, 256)  # 64\n",
    "        self.down5 = StackEncoder(256, 512)  # 32\n",
    "#        self.down6 = StackEncoder(512, 1024)  # 16\n",
    "\n",
    "        self.center = nn.Sequential(\n",
    "            ConvBnRelu2d(512, 1024),\n",
    "            ConvBnRelu2d(1024, 1024),\n",
    "        )\n",
    "\n",
    "        # 16\n",
    "#        self.up6 = StackDecoder(512, 768, 512)  # 32\n",
    "        self.up5 = StackDecoder(512, 1024, 512)  # 64\n",
    "        self.up4 = StackDecoder(256, 512, 256)  # 128\n",
    "        self.up3 = StackDecoder(128, 256, 128)  # 256\n",
    "        self.up2 = StackDecoder( 64, 128,  64)  # 512\n",
    "        self.up1 = StackDecoder( 32,  64,  32)  # 1024\n",
    "        \n",
    "        self.mask = nn.Conv2d(32, 1, kernel_size=1)\n",
    "\n",
    "    def forward(self, x):\n",
    "        e1, o = self.down1(x)\n",
    "        e2, o = self.down2(o)\n",
    "        e3, o = self.down3(o)\n",
    "        e4, o = self.down4(o)\n",
    "        e5, o = self.down5(o)\n",
    "#        e6, o = self.down6(o)\n",
    "\n",
    "        o = self.center(o)\n",
    "        \n",
    "#        o = self.up6(e6, o)\n",
    "        o = self.up5(e5, o)\n",
    "        o = self.up4(e4, o)\n",
    "        o = self.up3(e3, o)\n",
    "        o = self.up2(e2, o)\n",
    "        o = self.up1(e1, o)\n",
    "\n",
    "        o = self.mask(o)\n",
    "        o = F.upsample(o, size=(1280,1918), mode='bilinear')\n",
    "        return torch.squeeze(o, dim=1)"
   ]
  },
  {
   "cell_type": "markdown",
   "metadata": {},
   "source": [
    "### utils"
   ]
  },
  {
   "cell_type": "code",
   "execution_count": 10,
   "metadata": {
    "ExecuteTime": {
     "end_time": "2017-09-25T13:57:14.186705Z",
     "start_time": "2017-09-25T13:57:14.140918Z"
    },
    "collapsed": true
   },
   "outputs": [],
   "source": [
    "def dice_score(probs, target, weight=None, use_mask=True, threshold=0.5):\n",
    "    if use_mask:\n",
    "        probs = (probs > threshold).float()\n",
    "    N     = target.size(0)\n",
    "    if weight is None:\n",
    "        w = Variable(torch.ones(target.size()).cuda()).view(N, -1)\n",
    "    else:\n",
    "        w = weight.view(N, -1)\n",
    "    w2    = w*w\n",
    "    m1    = probs.view(N, -1)\n",
    "    m2    = target.view(N, -1)\n",
    "    score = (2*(w2*m1*m2).sum(dim=1) + 1) / ((w2*m1).sum(dim=1)\n",
    "                                             + (w2*m2).sum(dim=1) + 1)\n",
    "    \n",
    "    return score.sum()/N\n",
    "\n",
    "\n",
    "def dice_loss(logits, target, weight=None):\n",
    "    probs = F.sigmoid(logits)\n",
    "    loss  = 1 - dice_score(probs, target, weight, use_mask=False)\n",
    "    \n",
    "    return loss\n",
    "\n",
    "\n",
    "def criterion(logits, target):\n",
    "    N,H,W = target.size()\n",
    "    a = F.avg_pool2d(target, kernel_size=41, stride=1, padding=20)\n",
    "    boundary = (a.ge(0.01) * a.le(0.99)).float()\n",
    "    weight = Variable(torch.ones(a.size()).cuda())\n",
    "    w0 = weight.sum()\n",
    "    weight = weight + 2*boundary\n",
    "    w1 = weight.sum()\n",
    "    weight = weight*w0/w1\n",
    "        \n",
    "    return (F.binary_cross_entropy_with_logits(logits, target, weight),\n",
    "            dice_loss(logits, target, weight))"
   ]
  },
  {
   "cell_type": "code",
   "execution_count": 11,
   "metadata": {
    "ExecuteTime": {
     "end_time": "2017-09-25T13:57:14.375833Z",
     "start_time": "2017-09-25T13:57:14.352339Z"
    },
    "collapsed": true
   },
   "outputs": [],
   "source": [
    "def image_to_tensor(image):\n",
    "    image = image.transpose((2,0,1)).astype(np.float32)  # HWC -> CHW\n",
    "    tensor = torch.from_numpy(image)\n",
    "    return tensor\n",
    "\n",
    "\n",
    "def label_to_tensor(label, threshold=0.5):\n",
    "    label  = (label>threshold).astype(np.float32)\n",
    "    tensor = torch.from_numpy(label)\n",
    "    return tensor"
   ]
  },
  {
   "cell_type": "code",
   "execution_count": 12,
   "metadata": {
    "ExecuteTime": {
     "end_time": "2017-09-25T13:57:14.832994Z",
     "start_time": "2017-09-25T13:57:14.774083Z"
    },
    "collapsed": true
   },
   "outputs": [],
   "source": [
    "class CarDataset(Dataset):\n",
    "    def __init__(self, image_path, mask_path='', transform=[], mode='train'):\n",
    "        super(CarDataset, self).__init__()\n",
    "        self.img_names = sorted([x.split('/')[-1]\n",
    "                                 for x in glob.glob(image_path + '/*.jpg')])\n",
    "        self.img_path  = image_path\n",
    "        self.mask_path = mask_path\n",
    "        self.transform = transform\n",
    "        self.mode      = mode\n",
    "\n",
    "    def get_image(self, index):\n",
    "        name  = self.img_names[index]\n",
    "        file  = os.path.join(self.img_path, name)\n",
    "        img   = cv2.imread(file)\n",
    "        return img, name\n",
    "    \n",
    "    def get_label(self, name):\n",
    "        name = name.replace('.jpg', '_mask.png')\n",
    "        file = os.path.join(self.mask_path, name)\n",
    "        mask = cv2.imread(file, cv2.IMREAD_GRAYSCALE)\n",
    "        label = mask / 255\n",
    "        return label\n",
    "\n",
    "    def get_train_item(self, index):\n",
    "        image, name = self.get_image(index)\n",
    "        label = self.get_label(name)\n",
    "        image = image_to_tensor(image/255)\n",
    "        label = label_to_tensor(label)\n",
    "        return image, label\n",
    "\n",
    "    def get_test_item(self, index):\n",
    "        image, _ = self.get_image(index)\n",
    "        image = cv2.resize(image, (1024, 1024))\n",
    "        image = image_to_tensor(image/255)\n",
    "        return image\n",
    "\n",
    "    def __getitem__(self, index):\n",
    "        if self.mode == 'train':\n",
    "            return self.get_train_item(index)\n",
    "        elif self.mode == 'test':\n",
    "            return self.get_test_item(index)\n",
    "\n",
    "    def __len__(self):\n",
    "        return len(self.img_names)"
   ]
  },
  {
   "cell_type": "code",
   "execution_count": 13,
   "metadata": {
    "ExecuteTime": {
     "end_time": "2017-09-25T13:57:15.297336Z",
     "start_time": "2017-09-25T13:57:15.274071Z"
    },
    "collapsed": true
   },
   "outputs": [],
   "source": [
    "def train(train_loader, model, optimizer):\n",
    "    num_grad_acc = 16 // args.batch_size\n",
    "    model.train()\n",
    "    train_bce_loss = 0\n",
    "    train_score = 0\n",
    "    init_time = time.time()\n",
    "    optimizer.zero_grad()\n",
    "    for i, (inputt, target) in enumerate(train_loader, 1):\n",
    "        inputt = inputt.cuda()\n",
    "        target = target.cuda()\n",
    "        inputt = Variable(inputt)\n",
    "        target = Variable(target)\n",
    "        \n",
    "        output = model(inputt)\n",
    "        bce_loss, dice_loss = criterion(output, target)\n",
    "        loss = bce_loss + dice_loss\n",
    "        loss.backward()\n",
    "        if i % num_grad_acc == 0:\n",
    "            optimizer.step()\n",
    "            optimizer.zero_grad()\n",
    "        train_bce_loss += bce_loss.data[0] * inputt.size(0)\n",
    "        train_score += (1-dice_loss).data[0] * inputt.size(0)\n",
    "        if i % args.log_every == 0:\n",
    "            print(\"   % Time: {:4.0f}s | Batch: {:4} | \"\n",
    "                  \"Train bce loss: {:.5f} | Train score: {:.5f}\"\n",
    "                  .format(time.time()-init_time, i,\n",
    "                          bce_loss.data[0], (1-dice_loss).data[0]))\n",
    "    return (train_bce_loss / len(train_loader.dataset),\n",
    "            train_score / len(train_loader.dataset))"
   ]
  },
  {
   "cell_type": "code",
   "execution_count": 14,
   "metadata": {
    "ExecuteTime": {
     "end_time": "2017-09-25T13:57:15.982063Z",
     "start_time": "2017-09-25T13:57:15.971910Z"
    },
    "collapsed": true
   },
   "outputs": [],
   "source": [
    "def validate(val_loader, model):\n",
    "    model.eval()\n",
    "    val_score = 0\n",
    "    for i, (inputt, target) in enumerate(val_loader, 1):\n",
    "        inputt = inputt.cuda()\n",
    "        target = target.cuda()\n",
    "        inputt = Variable(inputt, volatile=True)\n",
    "        target = Variable(target)\n",
    "        \n",
    "        output = model(inputt)\n",
    "        score = dice_score(F.sigmoid(output), target)\n",
    "        val_score += score.data[0] * inputt.size(0)\n",
    "    return val_score / len(val_loader.dataset)"
   ]
  },
  {
   "cell_type": "code",
   "execution_count": 15,
   "metadata": {
    "ExecuteTime": {
     "end_time": "2017-09-25T13:57:16.492191Z",
     "start_time": "2017-09-25T13:57:16.486774Z"
    },
    "collapsed": true
   },
   "outputs": [],
   "source": [
    "def save_model(model, epoch, score):\n",
    "    model_file = os.path.join(args.intermediate_path,\n",
    "                              \"model_{}_epoch{}_score{:.5f}.pth\"\n",
    "                              .format(args.seed, epoch, score))\n",
    "    torch.save(model.state_dict(), model_file)"
   ]
  },
  {
   "cell_type": "code",
   "execution_count": 16,
   "metadata": {
    "ExecuteTime": {
     "end_time": "2017-09-25T13:57:17.336671Z",
     "start_time": "2017-09-25T13:57:17.330089Z"
    },
    "collapsed": true
   },
   "outputs": [],
   "source": [
    "def load_model(model, model_name):\n",
    "    model_path = os.path.join(args.intermediate_path, model_name)\n",
    "    assert os.path.isfile(model_path), 'Error: no model found!'\n",
    "    model_state = torch.load(model_path)\n",
    "    model.load_state_dict(model_state)"
   ]
  },
  {
   "cell_type": "code",
   "execution_count": 17,
   "metadata": {
    "ExecuteTime": {
     "end_time": "2017-09-25T13:57:17.929472Z",
     "start_time": "2017-09-25T13:57:17.921845Z"
    },
    "collapsed": true
   },
   "outputs": [],
   "source": [
    "def rle_encode(mask_image):\n",
    "    pixels = mask_image.flatten()\n",
    "    # We avoid issues with '1' at the start or end (at the corners of \n",
    "    # the original image) by setting those pixels to '0' explicitly.\n",
    "    # We do not expect these to be non-zero for an accurate mask, \n",
    "    # so this should not harm the score.\n",
    "    pixels[0] = 0\n",
    "    pixels[-1] = 0\n",
    "    runs = np.where(pixels[1:] != pixels[:-1])[0] + 2\n",
    "    runs[1::2] = runs[1::2] - runs[:-1:2]\n",
    "    return runs"
   ]
  },
  {
   "cell_type": "code",
   "execution_count": 18,
   "metadata": {
    "ExecuteTime": {
     "end_time": "2017-09-25T13:57:18.494345Z",
     "start_time": "2017-09-25T13:57:18.475353Z"
    },
    "collapsed": true
   },
   "outputs": [],
   "source": [
    "def test(test_loader, model, threshold=0.5):\n",
    "    model.eval()\n",
    "    init_time = time.time()\n",
    "    list_rle = []\n",
    "    c = 0\n",
    "    for i, imgs in enumerate(test_loader, 1):\n",
    "        imgs = imgs.cuda()\n",
    "        imgs = Variable(imgs, volatile=True)\n",
    "        outputs = F.sigmoid(model(imgs)) * 255\n",
    "        for j in range(outputs.size(0)):\n",
    "            c += 1\n",
    "            image = outputs[j, :, :].data.cpu().numpy()\n",
    "            cv2.imwrite(os.path.join(args.output_path, str(c)+'.jpg'), image)\n",
    "#        outputs = outputs > threshold\n",
    "#        for j in range(outputs.size(0)):\n",
    "#            rle = rle_encode(outputs[j, :, :].data.cpu().numpy())\n",
    "#            list_rle.append(' '.join(str(x) for x in rle))\n",
    "            \n",
    "        if i % args.log_every == 0:\n",
    "            print(\"   % Time: {:4.0f}s | Image: {:6d} / {}\"\n",
    "                  .format(time.time()-init_time, i*args.batch_size,\n",
    "                          len(test_loader.dataset)))\n",
    "    return list_rle"
   ]
  },
  {
   "cell_type": "markdown",
   "metadata": {},
   "source": [
    "### prepare"
   ]
  },
  {
   "cell_type": "code",
   "execution_count": 19,
   "metadata": {
    "ExecuteTime": {
     "end_time": "2017-09-25T13:57:19.855190Z",
     "start_time": "2017-09-25T13:57:19.838466Z"
    },
    "collapsed": true
   },
   "outputs": [],
   "source": [
    "train_dataset = CarDataset(args.train_path, args.train_masks_path,\n",
    "                           mode='train')\n",
    "train_loader  = DataLoader(train_dataset, args.batch_size, shuffle=True,\n",
    "                           num_workers=7)"
   ]
  },
  {
   "cell_type": "code",
   "execution_count": 20,
   "metadata": {
    "ExecuteTime": {
     "end_time": "2017-09-25T13:57:20.448412Z",
     "start_time": "2017-09-25T13:57:20.441637Z"
    },
    "collapsed": true
   },
   "outputs": [],
   "source": [
    "val_dataset = CarDataset(args.val_path, args.val_masks_path, mode='train')\n",
    "val_loader  = DataLoader(val_dataset, args.batch_size, num_workers=7)"
   ]
  },
  {
   "cell_type": "code",
   "execution_count": 21,
   "metadata": {
    "ExecuteTime": {
     "end_time": "2017-09-25T13:57:23.776001Z",
     "start_time": "2017-09-25T13:57:22.438128Z"
    },
    "collapsed": true
   },
   "outputs": [],
   "source": [
    "model = UNet1024((3, 1024, 1024))\n",
    "model.cuda()\n",
    "\n",
    "#optimizer = optim.SGD(model.parameters(), lr=0.01, momentum=0.9,\n",
    "#                      weight_decay=0.0005)\n",
    "optimizer = optim.Adam(model.parameters(), lr=0.00001)\n",
    "scheduler = MultiStepLR(optimizer, milestones=[40])"
   ]
  },
  {
   "cell_type": "markdown",
   "metadata": {},
   "source": [
    "### train"
   ]
  },
  {
   "cell_type": "code",
   "execution_count": 29,
   "metadata": {
    "ExecuteTime": {
     "end_time": "2017-09-25T14:03:31.788186Z",
     "start_time": "2017-09-25T14:02:41.744097Z"
    }
   },
   "outputs": [],
   "source": [
    "if 1 == 1:\n",
    "    load_model(model, 'model_tn_27.pth')\n",
    "    model.eval()\n",
    "    output_list = []\n",
    "    for i, (inputt, _) in enumerate(val_loader, 1):\n",
    "        inputt = inputt.cuda()\n",
    "        inputt = Variable(inputt, volatile=True)\n",
    "        output = F.sigmoid(model(inputt)) * 255\n",
    "        output_list.append(output.data.cpu().numpy().astype(np.uint8))\n",
    "    val_tn_27 = np.concatenate(output_list)\n",
    "    with open('../intermediate/output/val_tn_27.pkl', 'wb') as f:\n",
    "        pickle.dump(val_tn_27, f)"
   ]
  },
  {
   "cell_type": "code",
   "execution_count": 23,
   "metadata": {
    "ExecuteTime": {
     "end_time": "2017-09-24T06:41:31.936686Z",
     "start_time": "2017-09-24T06:17:03.981571Z"
    },
    "scrolled": false
   },
   "outputs": [
    {
     "name": "stdout",
     "output_type": "stream",
     "text": [
      "=> EPOCH 0 with lr [1e-05]\n",
      "   % Time:   75s | Batch:  100 | Train bce loss: 0.00845 | Train score: 0.98720\n",
      "   % Time:  149s | Batch:  200 | Train bce loss: 0.00871 | Train score: 0.98699\n",
      "   % Time:  224s | Batch:  300 | Train bce loss: 0.00580 | Train score: 0.98848\n",
      "   % Time:  299s | Batch:  400 | Train bce loss: 0.00802 | Train score: 0.98809\n",
      "   % Time:  373s | Batch:  500 | Train bce loss: 0.00729 | Train score: 0.98794\n",
      "   % Time:  448s | Batch:  600 | Train bce loss: 0.00743 | Train score: 0.98770\n",
      "   % Time:  523s | Batch:  700 | Train bce loss: 0.00682 | Train score: 0.98682\n",
      "   % Time:  598s | Batch:  800 | Train bce loss: 0.00681 | Train score: 0.98575\n",
      "   % Time:  673s | Batch:  900 | Train bce loss: 0.00951 | Train score: 0.98549\n",
      "   % Time:  747s | Batch: 1000 | Train bce loss: 0.00693 | Train score: 0.98788\n",
      "   % Time:  822s | Batch: 1100 | Train bce loss: 0.00973 | Train score: 0.98575\n",
      "   % Time:  897s | Batch: 1200 | Train bce loss: 0.01009 | Train score: 0.98633\n",
      "   % Time:  972s | Batch: 1300 | Train bce loss: 0.00893 | Train score: 0.98600\n",
      "   % Time: 1047s | Batch: 1400 | Train bce loss: 0.00978 | Train score: 0.98581\n",
      "==========\n",
      "   % Time: 1127s | Epoch:    0 | Train bce loss: 0.00806 | Train score: 0.98727 | Val score: 0.99689\n",
      "==========\n",
      "=> EPOCH 1 with lr [1e-05]\n",
      "   % Time:   75s | Batch:  100 | Train bce loss: 0.00833 | Train score: 0.98754\n",
      "   % Time:  150s | Batch:  200 | Train bce loss: 0.00683 | Train score: 0.98932\n",
      "   % Time:  225s | Batch:  300 | Train bce loss: 0.00768 | Train score: 0.98841\n",
      "   % Time:  300s | Batch:  400 | Train bce loss: 0.01306 | Train score: 0.98266\n"
     ]
    },
    {
     "name": "stderr",
     "output_type": "stream",
     "text": [
      "Process Process-19:\n",
      "Process Process-17:\n",
      "Process Process-16:\n",
      "Process Process-18:\n",
      "Process Process-21:\n",
      "Process Process-15:\n"
     ]
    },
    {
     "ename": "KeyboardInterrupt",
     "evalue": "",
     "output_type": "error",
     "traceback": [
      "\u001b[0;31m---------------------------------------------------------------------------\u001b[0m",
      "\u001b[0;31mKeyboardInterrupt\u001b[0m                         Traceback (most recent call last)",
      "\u001b[0;32m<ipython-input-23-fb1fb4e4954b>\u001b[0m in \u001b[0;36m<module>\u001b[0;34m()\u001b[0m\n\u001b[1;32m      7\u001b[0m         \u001b[0mprint\u001b[0m\u001b[0;34m(\u001b[0m\u001b[0;34m\"=> EPOCH {} with lr {}\"\u001b[0m\u001b[0;34m.\u001b[0m\u001b[0mformat\u001b[0m\u001b[0;34m(\u001b[0m\u001b[0mepoch\u001b[0m\u001b[0;34m,\u001b[0m \u001b[0mscheduler\u001b[0m\u001b[0;34m.\u001b[0m\u001b[0mget_lr\u001b[0m\u001b[0;34m(\u001b[0m\u001b[0;34m)\u001b[0m\u001b[0;34m)\u001b[0m\u001b[0;34m)\u001b[0m\u001b[0;34m\u001b[0m\u001b[0m\n\u001b[1;32m      8\u001b[0m         \u001b[0minit_time\u001b[0m \u001b[0;34m=\u001b[0m \u001b[0mtime\u001b[0m\u001b[0;34m.\u001b[0m\u001b[0mtime\u001b[0m\u001b[0;34m(\u001b[0m\u001b[0;34m)\u001b[0m\u001b[0;34m\u001b[0m\u001b[0m\n\u001b[0;32m----> 9\u001b[0;31m         \u001b[0mtrain_bce_loss\u001b[0m\u001b[0;34m,\u001b[0m \u001b[0mtrain_score\u001b[0m \u001b[0;34m=\u001b[0m \u001b[0mtrain\u001b[0m\u001b[0;34m(\u001b[0m\u001b[0mtrain_loader\u001b[0m\u001b[0;34m,\u001b[0m \u001b[0mmodel\u001b[0m\u001b[0;34m,\u001b[0m \u001b[0moptimizer\u001b[0m\u001b[0;34m)\u001b[0m\u001b[0;34m\u001b[0m\u001b[0m\n\u001b[0m\u001b[1;32m     10\u001b[0m         \u001b[0mval_score\u001b[0m \u001b[0;34m=\u001b[0m \u001b[0mvalidate\u001b[0m\u001b[0;34m(\u001b[0m\u001b[0mval_loader\u001b[0m\u001b[0;34m,\u001b[0m \u001b[0mmodel\u001b[0m\u001b[0;34m)\u001b[0m\u001b[0;34m\u001b[0m\u001b[0m\n\u001b[1;32m     11\u001b[0m         \u001b[0mprint\u001b[0m\u001b[0;34m(\u001b[0m\u001b[0;34m\"=\"\u001b[0m\u001b[0;34m*\u001b[0m\u001b[0;36m10\u001b[0m\u001b[0;34m)\u001b[0m\u001b[0;34m\u001b[0m\u001b[0m\n",
      "\u001b[0;32m<ipython-input-13-daa77c101050>\u001b[0m in \u001b[0;36mtrain\u001b[0;34m(train_loader, model, optimizer)\u001b[0m\n\u001b[1;32m     19\u001b[0m             \u001b[0moptimizer\u001b[0m\u001b[0;34m.\u001b[0m\u001b[0mstep\u001b[0m\u001b[0;34m(\u001b[0m\u001b[0;34m)\u001b[0m\u001b[0;34m\u001b[0m\u001b[0m\n\u001b[1;32m     20\u001b[0m             \u001b[0moptimizer\u001b[0m\u001b[0;34m.\u001b[0m\u001b[0mzero_grad\u001b[0m\u001b[0;34m(\u001b[0m\u001b[0;34m)\u001b[0m\u001b[0;34m\u001b[0m\u001b[0m\n\u001b[0;32m---> 21\u001b[0;31m         \u001b[0mtrain_bce_loss\u001b[0m \u001b[0;34m+=\u001b[0m \u001b[0mbce_loss\u001b[0m\u001b[0;34m.\u001b[0m\u001b[0mdata\u001b[0m\u001b[0;34m[\u001b[0m\u001b[0;36m0\u001b[0m\u001b[0;34m]\u001b[0m \u001b[0;34m*\u001b[0m \u001b[0minputt\u001b[0m\u001b[0;34m.\u001b[0m\u001b[0msize\u001b[0m\u001b[0;34m(\u001b[0m\u001b[0;36m0\u001b[0m\u001b[0;34m)\u001b[0m\u001b[0;34m\u001b[0m\u001b[0m\n\u001b[0m\u001b[1;32m     22\u001b[0m         \u001b[0mtrain_score\u001b[0m \u001b[0;34m+=\u001b[0m \u001b[0;34m(\u001b[0m\u001b[0;36m1\u001b[0m\u001b[0;34m-\u001b[0m\u001b[0mdice_loss\u001b[0m\u001b[0;34m)\u001b[0m\u001b[0;34m.\u001b[0m\u001b[0mdata\u001b[0m\u001b[0;34m[\u001b[0m\u001b[0;36m0\u001b[0m\u001b[0;34m]\u001b[0m \u001b[0;34m*\u001b[0m \u001b[0minputt\u001b[0m\u001b[0;34m.\u001b[0m\u001b[0msize\u001b[0m\u001b[0;34m(\u001b[0m\u001b[0;36m0\u001b[0m\u001b[0;34m)\u001b[0m\u001b[0;34m\u001b[0m\u001b[0m\n\u001b[1;32m     23\u001b[0m         \u001b[0;32mif\u001b[0m \u001b[0mi\u001b[0m \u001b[0;34m%\u001b[0m \u001b[0margs\u001b[0m\u001b[0;34m.\u001b[0m\u001b[0mlog_every\u001b[0m \u001b[0;34m==\u001b[0m \u001b[0;36m0\u001b[0m\u001b[0;34m:\u001b[0m\u001b[0;34m\u001b[0m\u001b[0m\n",
      "\u001b[0;31mKeyboardInterrupt\u001b[0m: "
     ]
    },
    {
     "name": "stderr",
     "output_type": "stream",
     "text": [
      "Process Process-20:\n",
      "Traceback (most recent call last):\n",
      "Traceback (most recent call last):\n",
      "Traceback (most recent call last):\n",
      "Traceback (most recent call last):\n",
      "  File \"/home/fehiepsi/miniconda3/envs/pydata/lib/python3.5/multiprocessing/process.py\", line 252, in _bootstrap\n",
      "    self.run()\n",
      "  File \"/home/fehiepsi/miniconda3/envs/pydata/lib/python3.5/multiprocessing/process.py\", line 252, in _bootstrap\n",
      "    self.run()\n",
      "  File \"/home/fehiepsi/miniconda3/envs/pydata/lib/python3.5/multiprocessing/process.py\", line 93, in run\n",
      "    self._target(*self._args, **self._kwargs)\n",
      "Traceback (most recent call last):\n",
      "Traceback (most recent call last):\n",
      "  File \"/home/fehiepsi/miniconda3/envs/pydata/lib/python3.5/multiprocessing/process.py\", line 93, in run\n",
      "    self._target(*self._args, **self._kwargs)\n",
      "  File \"/home/fehiepsi/miniconda3/envs/pydata/lib/python3.5/multiprocessing/process.py\", line 252, in _bootstrap\n",
      "    self.run()\n",
      "Traceback (most recent call last):\n",
      "  File \"/home/fehiepsi/miniconda3/envs/pydata/lib/python3.5/multiprocessing/process.py\", line 252, in _bootstrap\n",
      "    self.run()\n",
      "  File \"/home/fehiepsi/miniconda3/envs/pydata/lib/python3.5/site-packages/torch/utils/data/dataloader.py\", line 34, in _worker_loop\n",
      "    r = index_queue.get()\n",
      "  File \"/home/fehiepsi/miniconda3/envs/pydata/lib/python3.5/multiprocessing/process.py\", line 252, in _bootstrap\n",
      "    self.run()\n",
      "  File \"/home/fehiepsi/miniconda3/envs/pydata/lib/python3.5/multiprocessing/process.py\", line 252, in _bootstrap\n",
      "    self.run()\n",
      "  File \"/home/fehiepsi/miniconda3/envs/pydata/lib/python3.5/multiprocessing/process.py\", line 252, in _bootstrap\n",
      "    self.run()\n",
      "  File \"/home/fehiepsi/miniconda3/envs/pydata/lib/python3.5/multiprocessing/queues.py\", line 334, in get\n",
      "    with self._rlock:\n",
      "  File \"/home/fehiepsi/miniconda3/envs/pydata/lib/python3.5/site-packages/torch/utils/data/dataloader.py\", line 34, in _worker_loop\n",
      "    r = index_queue.get()\n",
      "  File \"/home/fehiepsi/miniconda3/envs/pydata/lib/python3.5/multiprocessing/process.py\", line 93, in run\n",
      "    self._target(*self._args, **self._kwargs)\n",
      "  File \"/home/fehiepsi/miniconda3/envs/pydata/lib/python3.5/multiprocessing/process.py\", line 93, in run\n",
      "    self._target(*self._args, **self._kwargs)\n",
      "  File \"/home/fehiepsi/miniconda3/envs/pydata/lib/python3.5/multiprocessing/process.py\", line 93, in run\n",
      "    self._target(*self._args, **self._kwargs)\n",
      "  File \"/home/fehiepsi/miniconda3/envs/pydata/lib/python3.5/multiprocessing/process.py\", line 93, in run\n",
      "    self._target(*self._args, **self._kwargs)\n",
      "  File \"/home/fehiepsi/miniconda3/envs/pydata/lib/python3.5/multiprocessing/queues.py\", line 334, in get\n",
      "    with self._rlock:\n",
      "  File \"/home/fehiepsi/miniconda3/envs/pydata/lib/python3.5/multiprocessing/synchronize.py\", line 96, in __enter__\n",
      "    return self._semlock.__enter__()\n",
      "  File \"/home/fehiepsi/miniconda3/envs/pydata/lib/python3.5/multiprocessing/process.py\", line 93, in run\n",
      "    self._target(*self._args, **self._kwargs)\n",
      "  File \"/home/fehiepsi/miniconda3/envs/pydata/lib/python3.5/site-packages/torch/utils/data/dataloader.py\", line 34, in _worker_loop\n",
      "    r = index_queue.get()\n",
      "  File \"/home/fehiepsi/miniconda3/envs/pydata/lib/python3.5/site-packages/torch/utils/data/dataloader.py\", line 34, in _worker_loop\n",
      "    r = index_queue.get()\n",
      "  File \"/home/fehiepsi/miniconda3/envs/pydata/lib/python3.5/site-packages/torch/utils/data/dataloader.py\", line 34, in _worker_loop\n",
      "    r = index_queue.get()\n",
      "  File \"/home/fehiepsi/miniconda3/envs/pydata/lib/python3.5/site-packages/torch/utils/data/dataloader.py\", line 34, in _worker_loop\n",
      "    r = index_queue.get()\n",
      "KeyboardInterrupt\n",
      "  File \"/home/fehiepsi/miniconda3/envs/pydata/lib/python3.5/multiprocessing/queues.py\", line 335, in get\n",
      "    res = self._reader.recv_bytes()\n",
      "  File \"/home/fehiepsi/miniconda3/envs/pydata/lib/python3.5/multiprocessing/synchronize.py\", line 96, in __enter__\n",
      "    return self._semlock.__enter__()\n",
      "  File \"/home/fehiepsi/miniconda3/envs/pydata/lib/python3.5/multiprocessing/connection.py\", line 216, in recv_bytes\n",
      "    buf = self._recv_bytes(maxlength)\n",
      "KeyboardInterrupt\n",
      "  File \"/home/fehiepsi/miniconda3/envs/pydata/lib/python3.5/multiprocessing/queues.py\", line 334, in get\n",
      "    with self._rlock:\n",
      "  File \"/home/fehiepsi/miniconda3/envs/pydata/lib/python3.5/multiprocessing/queues.py\", line 334, in get\n",
      "    with self._rlock:\n",
      "  File \"/home/fehiepsi/miniconda3/envs/pydata/lib/python3.5/multiprocessing/queues.py\", line 334, in get\n",
      "    with self._rlock:\n",
      "  File \"/home/fehiepsi/miniconda3/envs/pydata/lib/python3.5/multiprocessing/connection.py\", line 407, in _recv_bytes\n",
      "    buf = self._recv(4)\n",
      "  File \"/home/fehiepsi/miniconda3/envs/pydata/lib/python3.5/multiprocessing/synchronize.py\", line 96, in __enter__\n",
      "    return self._semlock.__enter__()\n",
      "  File \"/home/fehiepsi/miniconda3/envs/pydata/lib/python3.5/multiprocessing/synchronize.py\", line 96, in __enter__\n",
      "    return self._semlock.__enter__()\n",
      "  File \"/home/fehiepsi/miniconda3/envs/pydata/lib/python3.5/site-packages/torch/utils/data/dataloader.py\", line 34, in _worker_loop\n",
      "    r = index_queue.get()\n",
      "  File \"/home/fehiepsi/miniconda3/envs/pydata/lib/python3.5/multiprocessing/synchronize.py\", line 96, in __enter__\n",
      "    return self._semlock.__enter__()\n",
      "KeyboardInterrupt\n",
      "  File \"/home/fehiepsi/miniconda3/envs/pydata/lib/python3.5/multiprocessing/connection.py\", line 379, in _recv\n",
      "    chunk = read(handle, remaining)\n",
      "KeyboardInterrupt\n",
      "  File \"/home/fehiepsi/miniconda3/envs/pydata/lib/python3.5/multiprocessing/queues.py\", line 334, in get\n",
      "    with self._rlock:\n",
      "  File \"/home/fehiepsi/miniconda3/envs/pydata/lib/python3.5/multiprocessing/synchronize.py\", line 96, in __enter__\n",
      "    return self._semlock.__enter__()\n",
      "KeyboardInterrupt\n",
      "KeyboardInterrupt\n",
      "KeyboardInterrupt\n"
     ]
    }
   ],
   "source": [
    "if args.train:\n",
    "    if args.model_name != '':\n",
    "        load_model(model, args.model_name)\n",
    "        torch.manual_seed(201709211)\n",
    "    for epoch in range(2):\n",
    "        scheduler.step()\n",
    "        print(\"=> EPOCH {} with lr {}\".format(epoch, scheduler.get_lr()))\n",
    "        init_time = time.time()\n",
    "        train_bce_loss, train_score = train(train_loader, model, optimizer)\n",
    "        val_score = validate(val_loader, model)\n",
    "        print(\"=\"*10)\n",
    "        print(\"   % Time: {:4.0f}s | Epoch: {:4} | Train bce loss: {:.5f} \"\n",
    "              \"| Train score: {:.5f} | Val score: {:.5f}\"\n",
    "              .format(time.time()-init_time, epoch, train_bce_loss,\n",
    "                      train_score, val_score))\n",
    "        print(\"=\"*10)\n",
    "        save_model(model, epoch, val_score)\n",
    "else:\n",
    "    load_model(model, args.model_name)"
   ]
  },
  {
   "cell_type": "markdown",
   "metadata": {},
   "source": [
    "### test"
   ]
  },
  {
   "cell_type": "code",
   "execution_count": null,
   "metadata": {
    "ExecuteTime": {
     "end_time": "2017-09-24T06:16:11.651569Z",
     "start_time": "2017-09-24T06:16:08.547Z"
    },
    "collapsed": true,
    "scrolled": false
   },
   "outputs": [],
   "source": [
    "if args.test:\n",
    "    test_dataset = CarDataset(args.test_path, transform=[], mode='test')\n",
    "    test_loader = DataLoader(test_dataset, batch_size=args.batch_size)\n",
    "    list_rle = test(test_loader, model)\n",
    "    \n",
    "#    df = pd.DataFrame({\"img\": test_dataset.img_names, \"rle_mask\": list_rle})\n",
    "#    submiss_path = os.path.join(args.intermediate_path, \"submission.csv\")\n",
    "#    df.to_csv(submiss_path, index=False)"
   ]
  }
 ],
 "metadata": {
  "kernelspec": {
   "display_name": "Python (pydata)",
   "language": "python",
   "name": "pydata"
  },
  "language_info": {
   "codemirror_mode": {
    "name": "ipython",
    "version": 3
   },
   "file_extension": ".py",
   "mimetype": "text/x-python",
   "name": "python",
   "nbconvert_exporter": "python",
   "pygments_lexer": "ipython3",
   "version": "3.5.4"
  }
 },
 "nbformat": 4,
 "nbformat_minor": 2
}
