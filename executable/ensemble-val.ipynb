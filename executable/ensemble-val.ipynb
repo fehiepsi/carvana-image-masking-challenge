{
 "cells": [
  {
   "cell_type": "code",
   "execution_count": 24,
   "metadata": {
    "ExecuteTime": {
     "end_time": "2017-09-27T12:11:38.712265Z",
     "start_time": "2017-09-27T12:11:38.708639Z"
    },
    "collapsed": true
   },
   "outputs": [],
   "source": [
    "import os\n",
    "import pickle\n",
    "\n",
    "import numpy as np\n",
    "%matplotlib inline\n",
    "import matplotlib.pyplot as plt"
   ]
  },
  {
   "cell_type": "code",
   "execution_count": 2,
   "metadata": {
    "ExecuteTime": {
     "end_time": "2017-09-26T15:57:20.557785Z",
     "start_time": "2017-09-26T15:56:57.987316Z"
    },
    "collapsed": true
   },
   "outputs": [],
   "source": [
    "with open(os.path.join('../intermediate/output/', 'val.pkl'), 'rb') as f:\n",
    "    target = (pickle.load(f) != 0).reshape(768, -1)"
   ]
  },
  {
   "cell_type": "code",
   "execution_count": 25,
   "metadata": {
    "ExecuteTime": {
     "end_time": "2017-09-27T12:11:44.977857Z",
     "start_time": "2017-09-27T12:11:44.975358Z"
    }
   },
   "outputs": [
    {
     "data": {
      "text/plain": [
       "['val_dn_31.pkl',\n",
       " 'val_tn_31.pkl',\n",
       " 'val_tn_41.pkl',\n",
       " 'val_unet_27.pkl',\n",
       " 'val_unet_33.pkl',\n",
       " 'val_unet_38.pkl',\n",
       " 'val_unet_40.pkl',\n",
       " 'val_unet_41.pkl']"
      ]
     },
     "execution_count": 25,
     "metadata": {},
     "output_type": "execute_result"
    }
   ],
   "source": [
    "file_list"
   ]
  },
  {
   "cell_type": "code",
   "execution_count": 3,
   "metadata": {
    "ExecuteTime": {
     "end_time": "2017-09-26T16:00:00.180940Z",
     "start_time": "2017-09-26T15:57:22.495535Z"
    },
    "collapsed": true
   },
   "outputs": [],
   "source": [
    "file_list = ['val_dn_31.pkl', 'val_tn_31.pkl',\n",
    "             'val_tn_41.pkl', 'val_unet_27.pkl',\n",
    "             'val_unet_33.pkl', 'val_unet_38.pkl', 'val_unet_40.pkl',\n",
    "             'val_unet_41.pkl']\n",
    "val_list = []\n",
    "for file in file_list:\n",
    "    with open(os.path.join('../intermediate/output/', file), 'rb') as f:\n",
    "        val_list.append(pickle.load(f))"
   ]
  },
  {
   "cell_type": "code",
   "execution_count": 12,
   "metadata": {
    "ExecuteTime": {
     "end_time": "2017-09-27T03:28:08.590039Z",
     "start_time": "2017-09-27T03:28:08.577591Z"
    },
    "collapsed": true
   },
   "outputs": [],
   "source": [
    "def dice_score(probs):\n",
    "    m1    = probs.reshape(768, -1)\n",
    "    score = (2*(m1*target).sum(axis=1))/(m1.sum(axis=1)+target.sum(axis=1))\n",
    "    \n",
    "    return score.sum()/768"
   ]
  },
  {
   "cell_type": "code",
   "execution_count": 5,
   "metadata": {
    "ExecuteTime": {
     "end_time": "2017-09-26T16:00:00.278049Z",
     "start_time": "2017-09-26T16:00:00.187017Z"
    },
    "collapsed": true
   },
   "outputs": [],
   "source": [
    "def loss(weight=None, threshold=127.5):\n",
    "    if weight is None:\n",
    "        weight = [1.] * len(val_list)\n",
    "     \n",
    "    pred = 0.\n",
    "    for i in range(len(val_list)):\n",
    "        if weight[i] == 0:\n",
    "            continue\n",
    "        pred += weight[i] * val_list[i]\n",
    "    pred = pred / sum(weight)\n",
    "    pred = pred > threshold\n",
    "    return dice_score(pred)"
   ]
  },
  {
   "cell_type": "code",
   "execution_count": 58,
   "metadata": {
    "ExecuteTime": {
     "end_time": "2017-09-27T18:23:32.256174Z",
     "start_time": "2017-09-27T18:23:32.248959Z"
    },
    "collapsed": true
   },
   "outputs": [],
   "source": [
    "def vote_loss(weight=None, threshold=127.5):\n",
    "    if weight is None:\n",
    "        weight = [1.] * len(val_list)\n",
    "     \n",
    "    pred = 0.\n",
    "    for i in range(len(val_list)):\n",
    "        if weight[i] == 0:\n",
    "            continue\n",
    "        pred += weight[i] * (val_list[i] > threshold)\n",
    "#    pred = pred / sum(weight)\n",
    "    pred = pred > 2.5\n",
    "    return dice_score(pred)"
   ]
  },
  {
   "cell_type": "code",
   "execution_count": 61,
   "metadata": {
    "ExecuteTime": {
     "end_time": "2017-09-27T18:26:47.935551Z",
     "start_time": "2017-09-27T18:25:59.483701Z"
    }
   },
   "outputs": [
    {
     "data": {
      "text/plain": [
       "0.9971631102040126"
      ]
     },
     "execution_count": 61,
     "metadata": {},
     "output_type": "execute_result"
    }
   ],
   "source": [
    "weight=[1., 1., 1., 0., 1., 1., 0., 1.]\n",
    "vote_loss(weight, threshold=127)"
   ]
  },
  {
   "cell_type": "code",
   "execution_count": 66,
   "metadata": {
    "ExecuteTime": {
     "end_time": "2017-09-27T18:31:56.982347Z",
     "start_time": "2017-09-27T18:31:09.998628Z"
    }
   },
   "outputs": [
    {
     "data": {
      "text/plain": [
       "0.99716889115338692"
      ]
     },
     "execution_count": 66,
     "metadata": {},
     "output_type": "execute_result"
    }
   ],
   "source": [
    "weight=[1., 1., 1., 1., 0., 1., 0., 1.]\n",
    "vote_loss(weight, threshold=128)"
   ]
  },
  {
   "cell_type": "code",
   "execution_count": 63,
   "metadata": {
    "ExecuteTime": {
     "end_time": "2017-09-27T18:28:42.267618Z",
     "start_time": "2017-09-27T18:27:54.961334Z"
    }
   },
   "outputs": [
    {
     "data": {
      "text/plain": [
       "0.9971598368133141"
      ]
     },
     "execution_count": 63,
     "metadata": {},
     "output_type": "execute_result"
    }
   ],
   "source": [
    "weight=[1., 1., 1., 1., 1., 0., 0., 1.]\n",
    "vote_loss(weight, threshold=127)"
   ]
  },
  {
   "cell_type": "code",
   "execution_count": 60,
   "metadata": {
    "ExecuteTime": {
     "end_time": "2017-09-27T18:25:55.726696Z",
     "start_time": "2017-09-27T18:25:08.596072Z"
    }
   },
   "outputs": [
    {
     "data": {
      "text/plain": [
       "0.99715858297492543"
      ]
     },
     "execution_count": 60,
     "metadata": {},
     "output_type": "execute_result"
    }
   ],
   "source": [
    "weight=[1., 0., 1., 1., 1., 1., 0., 1.]\n",
    "vote_loss(weight, threshold=127)"
   ]
  },
  {
   "cell_type": "code",
   "execution_count": 40,
   "metadata": {
    "ExecuteTime": {
     "end_time": "2017-09-27T16:31:42.043665Z",
     "start_time": "2017-09-27T16:31:03.169267Z"
    }
   },
   "outputs": [
    {
     "data": {
      "text/plain": [
       "0.99716014605501091"
      ]
     },
     "execution_count": 40,
     "metadata": {},
     "output_type": "execute_result"
    }
   ],
   "source": [
    "weight=[0., 0., 1., 1., 1., 1., 0., 1.]\n",
    "vote_loss(weight, threshold=127)"
   ]
  },
  {
   "cell_type": "code",
   "execution_count": 33,
   "metadata": {
    "ExecuteTime": {
     "end_time": "2017-09-27T12:26:52.009856Z",
     "start_time": "2017-09-27T12:26:02.910862Z"
    }
   },
   "outputs": [
    {
     "data": {
      "text/plain": [
       "0.99714061943529408"
      ]
     },
     "execution_count": 33,
     "metadata": {},
     "output_type": "execute_result"
    }
   ],
   "source": [
    "weight=[0., 1., 1., 1., 1., 1., 0., 2.]\n",
    "vote_loss(weight)"
   ]
  },
  {
   "cell_type": "code",
   "execution_count": 28,
   "metadata": {
    "ExecuteTime": {
     "end_time": "2017-09-27T12:21:50.149495Z",
     "start_time": "2017-09-27T12:21:02.369305Z"
    }
   },
   "outputs": [
    {
     "data": {
      "text/plain": [
       "0.99670701666381978"
      ]
     },
     "execution_count": 28,
     "metadata": {},
     "output_type": "execute_result"
    }
   ],
   "source": [
    "weight=[0., 3., 6., 2., 4., 6., 0., 11.]\n",
    "vote_loss(weight)"
   ]
  },
  {
   "cell_type": "code",
   "execution_count": null,
   "metadata": {
    "collapsed": true
   },
   "outputs": [],
   "source": [
    "weight=[3., 3., 6., 2., 4., 6., 0., 11.]\n",
    "loss(weight)"
   ]
  },
  {
   "cell_type": "code",
   "execution_count": 29,
   "metadata": {
    "ExecuteTime": {
     "end_time": "2017-09-27T12:22:47.788268Z",
     "start_time": "2017-09-27T12:22:05.449585Z"
    }
   },
   "outputs": [
    {
     "data": {
      "text/plain": [
       "0.99720060927407383"
      ]
     },
     "execution_count": 29,
     "metadata": {},
     "output_type": "execute_result"
    }
   ],
   "source": [
    "weight=[0., 3., 6., 2., 4., 6., 0., 11.]\n",
    "loss(weight)"
   ]
  },
  {
   "cell_type": "code",
   "execution_count": 36,
   "metadata": {
    "ExecuteTime": {
     "end_time": "2017-09-27T12:30:47.989668Z",
     "start_time": "2017-09-27T12:30:05.288061Z"
    }
   },
   "outputs": [
    {
     "data": {
      "text/plain": [
       "0.99720058926852928"
      ]
     },
     "execution_count": 36,
     "metadata": {},
     "output_type": "execute_result"
    }
   ],
   "source": [
    "weight=[0., 3., 6., 2., 4., 6., 0., 13.]\n",
    "loss(weight, 127)"
   ]
  },
  {
   "cell_type": "code",
   "execution_count": 39,
   "metadata": {
    "ExecuteTime": {
     "end_time": "2017-09-27T13:25:51.588509Z",
     "start_time": "2017-09-27T13:24:56.417564Z"
    }
   },
   "outputs": [
    {
     "data": {
      "text/plain": [
       "0.99720587645403358"
      ]
     },
     "execution_count": 39,
     "metadata": {},
     "output_type": "execute_result"
    }
   ],
   "source": [
    "weight=[3., 3., 6., 2., 4., 6., 0., 11.]\n",
    "loss(weight, 125)"
   ]
  }
 ],
 "metadata": {
  "kernelspec": {
   "display_name": "Python (pydata)",
   "language": "python",
   "name": "pydata"
  },
  "language_info": {
   "codemirror_mode": {
    "name": "ipython",
    "version": 3
   },
   "file_extension": ".py",
   "mimetype": "text/x-python",
   "name": "python",
   "nbconvert_exporter": "python",
   "pygments_lexer": "ipython3",
   "version": "3.5.4"
  }
 },
 "nbformat": 4,
 "nbformat_minor": 2
}
