{
 "cells": [
  {
   "cell_type": "code",
   "execution_count": 1,
   "metadata": {
    "ExecuteTime": {
     "end_time": "2017-09-25T16:34:26.183893Z",
     "start_time": "2017-09-25T16:34:24.502925Z"
    },
    "collapsed": true
   },
   "outputs": [],
   "source": [
    "import os\n",
    "import pickle\n",
    "\n",
    "import numpy as np\n",
    "%matplotlib inline\n",
    "import matplotlib.pyplot as plt"
   ]
  },
  {
   "cell_type": "code",
   "execution_count": 7,
   "metadata": {
    "ExecuteTime": {
     "end_time": "2017-09-25T16:40:35.902322Z",
     "start_time": "2017-09-25T16:40:18.347595Z"
    },
    "collapsed": true
   },
   "outputs": [],
   "source": [
    "with open(os.path.join('../intermediate/output/', 'val.pkl'), 'rb') as f:\n",
    "    target = (pickle.load(f) != 0).reshape(768, -1)"
   ]
  },
  {
   "cell_type": "code",
   "execution_count": 3,
   "metadata": {
    "ExecuteTime": {
     "end_time": "2017-09-25T16:37:51.161390Z",
     "start_time": "2017-09-25T16:34:47.887095Z"
    }
   },
   "outputs": [],
   "source": [
    "file_list = ['val_dn_31.pkl', 'val_tn_27.pkl', 'val_tn_31.pkl',\n",
    "             'val_tn_41.pkl', 'val_unet_23.pkl', 'val_unet_27.pkl',\n",
    "             'val_unet_33.pkl', 'val_unet_38.pkl', 'val_unet_41.pkl']\n",
    "val_list = []\n",
    "for file in file_list:\n",
    "    with open(os.path.join('../intermediate/output/', file), 'rb') as f:\n",
    "        val_list.append(pickle.load(f))"
   ]
  },
  {
   "cell_type": "code",
   "execution_count": 4,
   "metadata": {
    "ExecuteTime": {
     "end_time": "2017-09-25T16:38:56.261768Z",
     "start_time": "2017-09-25T16:38:56.255877Z"
    },
    "collapsed": true
   },
   "outputs": [],
   "source": [
    "def dice_score(probs):\n",
    "    m1    = probs.reshape(768, -1)\n",
    "    score = (2*(m1*target).sum(axis=1))/(m1.sum(axis=1)+target.sum(axis=1))\n",
    "    \n",
    "    return score.sum()/768"
   ]
  },
  {
   "cell_type": "code",
   "execution_count": 5,
   "metadata": {
    "ExecuteTime": {
     "end_time": "2017-09-25T16:38:57.014176Z",
     "start_time": "2017-09-25T16:38:56.988885Z"
    },
    "collapsed": true
   },
   "outputs": [],
   "source": [
    "def loss(weight=None, threshold=127.5):\n",
    "    if weight is None:\n",
    "        weight = [1.] * len(val_list)\n",
    "     \n",
    "    pred = 0.\n",
    "    for i in range(len(val_list)):\n",
    "        pred += weight[i] * val_list[i]\n",
    "    pred = pred / sum(weight)\n",
    "    pred = pred > threshold\n",
    "    return dice_score(pred)"
   ]
  },
  {
   "cell_type": "code",
   "execution_count": 8,
   "metadata": {
    "ExecuteTime": {
     "end_time": "2017-09-25T16:41:37.169263Z",
     "start_time": "2017-09-25T16:40:57.602886Z"
    }
   },
   "outputs": [
    {
     "data": {
      "text/plain": [
       "0.99718389423972376"
      ]
     },
     "execution_count": 8,
     "metadata": {},
     "output_type": "execute_result"
    }
   ],
   "source": [
    "loss()"
   ]
  },
  {
   "cell_type": "code",
   "execution_count": 22,
   "metadata": {
    "ExecuteTime": {
     "end_time": "2017-09-25T17:01:11.865627Z",
     "start_time": "2017-09-25T17:00:31.952970Z"
    }
   },
   "outputs": [
    {
     "data": {
      "text/plain": [
       "0.99718099918615399"
      ]
     },
     "execution_count": 22,
     "metadata": {},
     "output_type": "execute_result"
    }
   ],
   "source": [
    "weight=[0., 1., 1., 1., 1., 1., 1., 1., 1.]\n",
    "loss(weight)"
   ]
  },
  {
   "cell_type": "code",
   "execution_count": 26,
   "metadata": {
    "ExecuteTime": {
     "end_time": "2017-09-25T17:06:54.760721Z",
     "start_time": "2017-09-25T17:06:14.606466Z"
    }
   },
   "outputs": [
    {
     "data": {
      "text/plain": [
       "0.99718685666982321"
      ]
     },
     "execution_count": 26,
     "metadata": {},
     "output_type": "execute_result"
    }
   ],
   "source": [
    "weight=[1., 0., 1., 1., 1., 1., 1., 1., 1.]\n",
    "loss(weight)"
   ]
  },
  {
   "cell_type": "code",
   "execution_count": 27,
   "metadata": {
    "ExecuteTime": {
     "end_time": "2017-09-25T17:07:55.379013Z",
     "start_time": "2017-09-25T17:07:15.165050Z"
    }
   },
   "outputs": [
    {
     "data": {
      "text/plain": [
       "0.99717862316051198"
      ]
     },
     "execution_count": 27,
     "metadata": {},
     "output_type": "execute_result"
    }
   ],
   "source": [
    "weight=[1., 0., 0., 1., 1., 1., 1., 1., 1.]\n",
    "loss(weight)"
   ]
  },
  {
   "cell_type": "code",
   "execution_count": 28,
   "metadata": {
    "ExecuteTime": {
     "end_time": "2017-09-25T17:09:50.096978Z",
     "start_time": "2017-09-25T17:09:10.042758Z"
    }
   },
   "outputs": [
    {
     "data": {
      "text/plain": [
       "0.99717089369879941"
      ]
     },
     "execution_count": 28,
     "metadata": {},
     "output_type": "execute_result"
    }
   ],
   "source": [
    "weight=[1., 0., 1., 0., 1., 1., 1., 1., 1.]\n",
    "loss(weight)"
   ]
  },
  {
   "cell_type": "code",
   "execution_count": 29,
   "metadata": {
    "ExecuteTime": {
     "end_time": "2017-09-25T17:11:15.189657Z",
     "start_time": "2017-09-25T17:10:34.982732Z"
    }
   },
   "outputs": [
    {
     "data": {
      "text/plain": [
       "0.99719180696985255"
      ]
     },
     "execution_count": 29,
     "metadata": {},
     "output_type": "execute_result"
    }
   ],
   "source": [
    "weight=[1., 0., 1., 1., 0., 1., 1., 1., 1.]\n",
    "loss(weight)"
   ]
  },
  {
   "cell_type": "code",
   "execution_count": 30,
   "metadata": {
    "ExecuteTime": {
     "end_time": "2017-09-25T17:12:17.021377Z",
     "start_time": "2017-09-25T17:11:36.430958Z"
    }
   },
   "outputs": [
    {
     "data": {
      "text/plain": [
       "0.99718300274965266"
      ]
     },
     "execution_count": 30,
     "metadata": {},
     "output_type": "execute_result"
    }
   ],
   "source": [
    "weight=[1., 0., 1., 1., 0., 0., 1., 1., 1.]\n",
    "loss(weight)"
   ]
  },
  {
   "cell_type": "code",
   "execution_count": 31,
   "metadata": {
    "ExecuteTime": {
     "end_time": "2017-09-25T17:13:34.944153Z",
     "start_time": "2017-09-25T17:12:54.521762Z"
    }
   },
   "outputs": [
    {
     "data": {
      "text/plain": [
       "0.99718604870454863"
      ]
     },
     "execution_count": 31,
     "metadata": {},
     "output_type": "execute_result"
    }
   ],
   "source": [
    "weight=[1., 0., 1., 1., 0., 1., 0., 1., 1.]\n",
    "loss(weight)"
   ]
  },
  {
   "cell_type": "code",
   "execution_count": 25,
   "metadata": {
    "ExecuteTime": {
     "end_time": "2017-09-25T17:04:13.301926Z",
     "start_time": "2017-09-25T17:03:33.380870Z"
    }
   },
   "outputs": [
    {
     "data": {
      "text/plain": [
       "0.99710382792262886"
      ]
     },
     "execution_count": 25,
     "metadata": {},
     "output_type": "execute_result"
    }
   ],
   "source": [
    "weight=[0., 0., 1., 0., 0., 0., 0., 0., 1.]\n",
    "loss(weight)"
   ]
  }
 ],
 "metadata": {
  "kernelspec": {
   "display_name": "Python (pydata)",
   "language": "python",
   "name": "pydata"
  },
  "language_info": {
   "codemirror_mode": {
    "name": "ipython",
    "version": 3
   },
   "file_extension": ".py",
   "mimetype": "text/x-python",
   "name": "python",
   "nbconvert_exporter": "python",
   "pygments_lexer": "ipython3",
   "version": "3.5.4"
  }
 },
 "nbformat": 4,
 "nbformat_minor": 2
}
